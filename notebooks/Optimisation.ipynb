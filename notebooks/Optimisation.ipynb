{
 "cells": [
  {
   "cell_type": "code",
   "execution_count": 1,
   "metadata": {
    "collapsed": false
   },
   "outputs": [],
   "source": [
    "push!(LOAD_PATH, \"..\")\n",
    "using ASE, Potentials, MatSciPy, AtomsInterface, TestAtoms, TightBinding\n",
    "using PyPlot\n",
    "import AtOptim\n",
    "import AtPrecon"
   ]
  },
  {
   "cell_type": "code",
   "execution_count": 4,
   "metadata": {
    "collapsed": false
   },
   "outputs": [
    {
     "data": {
      "text/plain": [
       "MatSciPy.PairCalculator(Potentials.SWCutoff(Potentials.LennardJonesPotential(2.8637824638055176,1.0),7.159456159513794,1.0))"
      ]
     },
     "execution_count": 4,
     "metadata": {},
     "output_type": "execute_result"
    }
   ],
   "source": [
    "# reference configuration\n",
    "at = bulk(\"Al\"; cubic=true)\n",
    "at = repeat(at, (3, 3, 2))\n",
    "set_pbc!(at, (false, false, false))\n",
    "X0 = positions(at);\n",
    "# jiggle the positions\n",
    "# set_positions!(at, X0+0.01 * rand(size(X0)))\n",
    "# create a calculator\n",
    "r0 = rnn(\"Al\")\n",
    "rcut = 2.5 * r0\n",
    "calc = MatSciPy.PairCalculator( SWCutoff( LennardJonesPotential(r0, 1.0), rcut, 1.0 ) )\n",
    "# calc = TightBinding.ToyTB.ToyTBModel(r0=r0, rcut=rcut)\n",
    "# TestAtoms.test_potentialenergy(calc, at)\n",
    "# plot3D(X0[1,:][:], X0[2,:][:], X0[3,:][:], \"b.\")\n",
    "\n",
    "\n"
   ]
  },
  {
   "cell_type": "code",
   "execution_count": 3,
   "metadata": {
    "collapsed": false
   },
   "outputs": [
    {
     "name": "stdout",
     "output_type": "stream",
     "text": [
      " #at = 800\n",
      "-------|---------------------------------------------------------\n",
      " nit   |   ΔE        |∇E|∞     |Δx|∞      α        #E \n",
      "-------|---------------------------------------------------------\n",
      "     1 | -5.41e+03  1.80e+00  0.00e+00  1.00e+00      1 \n",
      "     2 | -6.76e+00  4.95e-01  1.17e-01  1.00e+00      2 \n",
      "     3 | -6.26e-01  2.03e-01  1.34e-01  9.63e-01      3 \n",
      "     4 | -1.68e-01  1.14e-01  1.51e-01  1.13e+00      4 \n",
      "     5 | -5.80e-02  5.27e-02  2.86e-01  1.68e+00      5 \n",
      "     6 | -8.30e-03  4.36e-02  5.80e-01  1.91e+00      6 \n",
      "     7 | -3.11e-03  2.05e-02  9.91e-02  1.08e+00      7 \n",
      "     8 | -7.20e-04  8.23e-03  5.27e-02  7.91e-01      8 \n",
      "     9 | -1.79e-04  6.09e-03  4.34e-02  8.21e-01      9 \n",
      "    10 | -2.21e-04  8.34e-04  2.80e-01  2.90e+00     10 \n",
      "    11 | -4.44e-06  4.24e-04  2.03e-01  3.19e+00     11 \n",
      "    12 | -4.89e-07  9.99e-05  1.18e-01  8.17e-01     13 \n",
      "    13 | -5.18e-08  5.60e-05  9.51e-02  7.67e-01     14 \n",
      "    14 | -5.85e-08  3.29e-05  2.72e-01  1.53e+00     15 \n",
      "    15 | -4.31e-08  7.60e-06  4.05e-01  4.02e+00     16 \n",
      "-------|---------------------------------------------------------\n",
      "  2.484906 seconds (1.56 M allocations: 639.786 MB, 3.67% gc time)\n"
     ]
    }
   ],
   "source": [
    "at = repeat(bulk(\"Al\"; cubic=true), (10,10,2))\n",
    "println(\" #at = \", length(at))\n",
    "# precon = AtPrecon.IdPrecon()\n",
    "precon = AtPrecon.ExpPrecon(at, calc)\n",
    "X0 = positions(at)\n",
    "srand(12345)\n",
    "set_positions!(at, X0+0.05 * rand(size(X0)))\n",
    "@time AtOptim.minimise!(at, calc, 1e-5; precon=precon, disp=3, maxnit=100);\n",
    "\n",
    "\n"
   ]
  },
  {
   "cell_type": "code",
   "execution_count": 6,
   "metadata": {
    "collapsed": false
   },
   "outputs": [
    {
     "name": "stdout",
     "output_type": "stream",
     "text": [
      " #at = 72\n",
      "-----------------------------\n",
      "  p | error \n",
      "----|------------------------\n",
      "  2 | 2.0206252e-03 \n",
      "  3 | 2.0217136e-04 \n",
      "  4 | 2.0217788e-05 \n",
      "  5 | 2.0215844e-06 \n",
      "  6 | 2.0621377e-07 \n",
      "  7 | 7.2864390e-07 \n",
      "  8 | 6.9510733e-06 \n",
      "  9 | 7.3021015e-05 \n",
      " 10 | 7.2520810e-04 \n",
      "-----------------------------\n",
      "  1.606599 seconds (29.20 M allocations: 837.522 MB, 8.18% gc time)\n",
      "-------|---------------------------------------------------------\n",
      " nit   |   ΔE        |∇E|∞     |Δx|∞      α        #E \n",
      "-------|---------------------------------------------------------\n",
      "     1 | -5.09e+01  2.14e-02  0.00e+00  1.00e+00      1 \n",
      "     2 | -6.68e-03  1.19e-02  1.14e-01  1.00e+00      2 \n",
      "     3 | -1.85e-03  3.97e-03  1.70e-01  6.78e-01      3 \n",
      "     4 | -1.81e-04  1.78e-03  4.51e-02  5.93e-01      4 \n",
      "     5 | -8.50e-05  1.49e-03  1.42e-01  6.41e-01      5 \n",
      "     6 | -1.31e-04  1.02e-03  8.49e-01  1.43e+00      6 \n",
      "     7 | -1.03e-04  1.05e-03  2.44e-01  1.09e+00      7 \n",
      "     8 | -1.33e-05  1.07e-03  3.96e-04  1.09e-01      8 \n",
      "     9 | -1.37e-06  1.07e-03  4.04e-05  1.09e-02      9 \n",
      "    10 | -1.38e-07  1.07e-03  4.05e-06  1.09e-03     10 \n",
      "    11 | -1.38e-08  1.07e-03  4.05e-07  1.09e-04     11 \n",
      "    12 | -1.38e-09  1.07e-03  4.05e-08  1.09e-05     12 \n",
      "    13 | -1.38e-10  1.07e-03  4.05e-09  1.09e-06     13 \n",
      "    14 | -1.38e-11  1.07e-03  4.05e-10  1.09e-07     14 \n",
      "  "
     ]
    },
    {
     "ename": "LoadError",
     "evalue": "LoadError: ls_armijo! : alpha < alpha_min \nwhile loading In[6], in expression starting on line 11",
     "output_type": "error",
     "traceback": [
      "LoadError: ls_armijo! : alpha < alpha_min \nwhile loading In[6], in expression starting on line 11",
      "",
      " in ls_armijo! at /Users/ortner/gits/Atoms.jl/AtOptim.jl:185",
      " in minimise! at /Users/ortner/gits/Atoms.jl/AtOptim.jl:114"
     ]
    },
    {
     "name": "stdout",
     "output_type": "stream",
     "text": [
      "  15 | -1.40e-12  1.07e-03  4.05e-11  1.09e-08     15 \n"
     ]
    }
   ],
   "source": [
    "at = repeat(bulk(\"Al\"; cubic=true), (3, 3, 2))\n",
    "println(\" #at = \", length(at))\n",
    "X0 = positions(at)\n",
    "srand(12345)\n",
    "set_positions!(at, X0+0.05 * rand(size(X0)))\n",
    "calc = TightBinding.ToyTB.ToyTBModel(r0=r0, rcut=rcut)\n",
    "calc.nkpoints = (0,0,1)\n",
    "TestAtoms.test_potentialenergy(calc, at)\n",
    "@time precon = AtPrecon.ExpPrecon(at, calc); precon.cstab = 0.1\n",
    "# precon = AtPrecon.IdPrecon()\n",
    "AtOptim.minimise!(at, calc, 1e-4; precon=precon, disp=3, maxnit=100);\n",
    "\n"
   ]
  },
  {
   "cell_type": "code",
   "execution_count": 11,
   "metadata": {
    "collapsed": false
   },
   "outputs": [
    {
     "data": {
      "text/plain": [
       "mini_precon (generic function with 1 method)"
      ]
     },
     "execution_count": 11,
     "metadata": {},
     "output_type": "execute_result"
    }
   ],
   "source": [
    "function dist_from_X0(X, X0)\n",
    "    R0 = X0[:, 2:4] .- X0[:,1]\n",
    "    R = X[:, 2:4] .- X[:,1]\n",
    "    # Q * R = R0 ⇔ Q = R0 / R\n",
    "    Q = R0 / R\n",
    "    X0 = X0 .- X0[:,1]\n",
    "    X = X .- X[:,1]\n",
    "    X = Q * X\n",
    "    return sqrt(maximum(sumabs2(X0-X)))\n",
    "end\n",
    "\n",
    "function mini_precon(at, rcut)\n",
    "    i, j = MatSciPy.neighbour_list(at, \"ij\", rcut)\n",
    "    v = ones(length(i))\n",
    "    P = sparse(i, i, v) - sparse(i, j, v) + 0.01 * speye(length(at))\n",
    "end\n",
    "\n"
   ]
  },
  {
   "cell_type": "code",
   "execution_count": 20,
   "metadata": {
    "collapsed": false
   },
   "outputs": [
    {
     "name": "stdout",
     "output_type": "stream",
     "text": [
      " #at = 100; r0 = 2.8637824638055176\n",
      " |frc|∞ = 3.46e-02 ; |frc|_P⁻¹ = 5.85e-02  ;  |X-X0|∞ = 0.00e+00 \n",
      " |frc|∞ = 3.30e-02 ; |frc|_P⁻¹ = 4.77e-02  ;  |X-X0|∞ = 9.80e-01 \n",
      " |frc|∞ = 5.32e-03 ; |frc|_P⁻¹ = 9.70e-03  ;  |X-X0|∞ = 5.38e-01 \n",
      " |frc|∞ = 1.93e-03 ; |frc|_P⁻¹ = 3.78e-03  ;  |X-X0|∞ = 2.83e-01 \n",
      " |frc|∞ = 1.08e-03 ; |frc|_P⁻¹ = 1.98e-03  ;  |X-X0|∞ = 1.69e-01 \n",
      " |frc|∞ = 7.33e-04 ; |frc|_P⁻¹ = 1.19e-03  ;  |X-X0|∞ = 1.12e-01 \n",
      " |frc|∞ = 4.95e-04 ; |frc|_P⁻¹ = 7.65e-04  ;  |X-X0|∞ = 7.94e-02 \n",
      " |frc|∞ = 3.32e-04 ; |frc|_P⁻¹ = 5.12e-04  ;  |X-X0|∞ = 5.82e-02 \n",
      " |frc|∞ = 2.46e-04 ; |frc|_P⁻¹ = 3.52e-04  ;  |X-X0|∞ = 4.39e-02 \n",
      " |frc|∞ = 1.83e-04 ; |frc|_P⁻¹ = 2.48e-04  ;  |X-X0|∞ = 3.43e-02 \n",
      " |frc|∞ = 1.36e-04 ; |frc|_P⁻¹ = 1.79e-04  ;  |X-X0|∞ = 2.79e-02 \n",
      " |frc|∞ = 1.03e-04 ; |frc|_P⁻¹ = 1.34e-04  ;  |X-X0|∞ = 2.39e-02 \n",
      " |frc|∞ = 7.81e-05 ; |frc|_P⁻¹ = 1.05e-04  ;  |X-X0|∞ = 2.15e-02 \n",
      " |frc|∞ = 6.05e-05 ; |frc|_P⁻¹ = 8.75e-05  ;  |X-X0|∞ = 2.04e-02 \n",
      " |frc|∞ = 4.78e-05 ; |frc|_P⁻¹ = 7.80e-05  ;  |X-X0|∞ = 2.01e-02 \n",
      " |frc|∞ = 3.87e-05 ; |frc|_P⁻¹ = 7.41e-05  ;  |X-X0|∞ = 2.04e-02 \n",
      " |frc|∞ = 3.23e-05 ; |frc|_P⁻¹ = 7.41e-05  ;  |X-X0|∞ = 2.10e-02 \n",
      " |frc|∞ = 2.77e-05 ; |frc|_P⁻¹ = 7.65e-05  ;  |X-X0|∞ = 2.20e-02 \n",
      " |frc|∞ = 2.48e-05 ; |frc|_P⁻¹ = 8.06e-05  ;  |X-X0|∞ = 2.32e-02 \n",
      " |frc|∞ = 2.43e-05 ; |frc|_P⁻¹ = 8.58e-05  ;  |X-X0|∞ = 2.47e-02 \n",
      " |frc|∞ = 2.43e-05 ; |frc|_P⁻¹ = 9.20e-05  ;  |X-X0|∞ = 2.63e-02 \n",
      " |frc|∞ = 2.48e-05 ; |frc|_P⁻¹ = 9.90e-05  ;  |X-X0|∞ = 2.82e-02 \n",
      " |frc|∞ = 2.57e-05 ; |frc|_P⁻¹ = 1.07e-04  ;  |X-X0|∞ = 3.02e-02 \n",
      " |frc|∞ = 2.68e-05 ; |frc|_P⁻¹ = 1.15e-04  ;  |X-X0|∞ = 3.24e-02 \n",
      " |frc|∞ = 2.81e-05 ; |frc|_P⁻¹ = 1.25e-04  ;  |X-X0|∞ = 3.49e-02 \n",
      " |frc|∞ = 2.97e-05 ; |frc|_P⁻¹ = 1.35e-04  ;  |X-X0|∞ = 3.76e-02 \n",
      " |frc|∞ = 3.14e-05 ; |frc|_P⁻¹ = 1.46e-04  ;  |X-X0|∞ = 4.05e-02 \n",
      " |frc|∞ = 3.34e-05 ; |frc|_P⁻¹ = 1.57e-04  ;  |X-X0|∞ = 4.37e-02 \n",
      " |frc|∞ = 3.56e-05 ; |frc|_P⁻¹ = 1.70e-04  ;  |X-X0|∞ = 4.72e-02 \n",
      " |frc|∞ = 3.81e-05 ; |frc|_P⁻¹ = 1.84e-04  ;  |X-X0|∞ = 5.09e-02 \n",
      " |frc|∞ = 4.08e-05 ; |frc|_P⁻¹ = 1.99e-04  ;  |X-X0|∞ = 5.50e-02 \n",
      " |frc|∞ = 4.37e-05 ; |frc|_P⁻¹ = 2.15e-04  ;  |X-X0|∞ = 5.94e-02 \n",
      " |frc|∞ = 4.70e-05 ; |frc|_P⁻¹ = 2.33e-04  ;  |X-X0|∞ = 6.42e-02 \n",
      " |frc|∞ = 5.05e-05 ; |frc|_P⁻¹ = 2.52e-04  ;  |X-X0|∞ = 6.94e-02 \n",
      " |frc|∞ = 5.44e-05 ; |frc|_P⁻¹ = 2.73e-04  ;  |X-X0|∞ = 7.51e-02 \n",
      " |frc|∞ = 5.86e-05 ; |frc|_P⁻¹ = 2.95e-04  ;  |X-X0|∞ = 8.11e-02 \n",
      " |frc|∞ = 6.33e-05 ; |frc|_P⁻¹ = 3.19e-04  ;  |X-X0|∞ = 8.77e-02 \n",
      " |frc|∞ = 6.84e-05 ; |frc|_P⁻¹ = 3.45e-04  ;  |X-X0|∞ = 9.49e-02 \n",
      " |frc|∞ = 7.40e-05 ; |frc|_P⁻¹ = 3.73e-04  ;  |X-X0|∞ = 1.03e-01 \n",
      " |frc|∞ = 7.99e-05 ; |frc|_P⁻¹ = 4.04e-04  ;  |X-X0|∞ = 1.11e-01 \n",
      " |frc|∞ = 8.64e-05 ; |frc|_P⁻¹ = 4.37e-04  ;  |X-X0|∞ = 1.20e-01 \n",
      " |frc|∞ = 9.34e-05 ; |frc|_P⁻¹ = 4.73e-04  ;  |X-X0|∞ = 1.30e-01 \n",
      " |frc|∞ = 1.01e-04 ; |frc|_P⁻¹ = 5.11e-04  ;  |X-X0|∞ = 1.40e-01 \n",
      " |frc|∞ = 1.09e-04 ; |frc|_P⁻¹ = 5.53e-04  ;  |X-X0|∞ = 1.52e-01 \n",
      " |frc|∞ = 1.18e-04 ; |frc|_P⁻¹ = 5.98e-04  ;  |X-X0|∞ = 1.64e-01 \n",
      " |frc|∞ = 1.28e-04 ; |frc|_P⁻¹ = 6.47e-04  ;  |X-X0|∞ = 1.78e-01 \n",
      " |frc|∞ = 1.38e-04 ; |frc|_P⁻¹ = 7.00e-04  ;  |X-X0|∞ = 1.92e-01 \n",
      " |frc|∞ = 1.49e-04 ; |frc|_P⁻¹ = 7.57e-04  ;  |X-X0|∞ = 2.08e-01 \n",
      " |frc|∞ = 1.62e-04 ; |frc|_P⁻¹ = 8.19e-04  ;  |X-X0|∞ = 2.25e-01 \n",
      " |frc|∞ = 1.75e-04 ; |frc|_P⁻¹ = 8.86e-04  ;  |X-X0|∞ = 2.43e-01 \n",
      " |frc|∞ = 1.89e-04 ; |frc|_P⁻¹ = 9.58e-04  ;  |X-X0|∞ = 2.63e-01 \n",
      " |frc|∞ = 2.05e-04 ; |frc|_P⁻¹ = 1.04e-03  ;  |X-X0|∞ = 2.85e-01 \n",
      " |frc|∞ = 2.22e-04 ; |frc|_P⁻¹ = 1.12e-03  ;  |X-X0|∞ = 3.08e-01 \n",
      " |frc|∞ = 2.40e-04 ; |frc|_P⁻¹ = 1.21e-03  ;  |X-X0|∞ = 3.33e-01 \n",
      " |frc|∞ = 2.59e-04 ; |frc|_P⁻¹ = 1.31e-03  ;  |X-X0|∞ = 3.60e-01 \n",
      " |frc|∞ = 2.81e-04 ; |frc|_P⁻¹ = 1.42e-03  ;  |X-X0|∞ = 3.90e-01 \n",
      " |frc|∞ = 3.04e-04 ; |frc|_P⁻¹ = 1.54e-03  ;  |X-X0|∞ = 4.21e-01 \n",
      " |frc|∞ = 3.28e-04 ; |frc|_P⁻¹ = 1.66e-03  ;  |X-X0|∞ = 4.56e-01 \n",
      " |frc|∞ = 3.55e-04 ; |frc|_P⁻¹ = 1.80e-03  ;  |X-X0|∞ = 4.93e-01 \n",
      " |frc|∞ = 3.84e-04 ; |frc|_P⁻¹ = 1.94e-03  ;  |X-X0|∞ = 5.33e-01 \n",
      " |frc|∞ = 4.16e-04 ; |frc|_P⁻¹ = 2.10e-03  ;  |X-X0|∞ = 5.77e-01 \n",
      " |frc|∞ = 4.50e-04 ; |frc|_P⁻¹ = 2.27e-03  ;  |X-X0|∞ = 6.24e-01 \n",
      " |frc|∞ = 4.86e-04 ; |frc|_P⁻¹ = 2.46e-03  ;  |X-X0|∞ = 6.75e-01 \n",
      " |frc|∞ = 5.26e-04 ; |frc|_P⁻¹ = 2.66e-03  ;  |X-X0|∞ = 7.30e-01 \n",
      " |frc|∞ = 5.69e-04 ; |frc|_P⁻¹ = 2.87e-03  ;  |X-X0|∞ = 7.90e-01 \n",
      " |frc|∞ = 6.16e-04 ; |frc|_P⁻¹ = 3.11e-03  ;  |X-X0|∞ = 8.54e-01 \n",
      " |frc|∞ = 6.66e-04 ; |frc|_P⁻¹ = 3.36e-03  ;  |X-X0|∞ = 9.24e-01 \n",
      " |frc|∞ = 7.20e-04 ; |frc|_P⁻¹ = 3.63e-03  ;  |X-X0|∞ = 9.99e-01 \n",
      " |frc|∞ = 7.78e-04 ; |frc|_P⁻¹ = 3.92e-03  ;  |X-X0|∞ = 1.08e+00 \n",
      " |frc|∞ = 8.41e-04 ; |frc|_P⁻¹ = 4.24e-03  ;  |X-X0|∞ = 1.17e+00 \n",
      " |frc|∞ = 9.10e-04 ; |frc|_P⁻¹ = 4.58e-03  ;  |X-X0|∞ = 1.26e+00 \n",
      " |frc|∞ = 9.83e-04 ; |frc|_P⁻¹ = 4.94e-03  ;  |X-X0|∞ = 1.37e+00 \n",
      " |frc|∞ = 1.06e-03 ; |frc|_P⁻¹ = 5.34e-03  ;  |X-X0|∞ = 1.48e+00 \n",
      " |frc|∞ = 1.15e-03 ; |frc|_P⁻¹ = 5.76e-03  ;  |X-X0|∞ = 1.60e+00 \n",
      " |frc|∞ = 1.24e-03 ; |frc|_P⁻¹ = 6.22e-03  ;  |X-X0|∞ = 1.73e+00 \n",
      " |frc|∞ = 1.34e-03 ; |frc|_P⁻¹ = 6.71e-03  ;  |X-X0|∞ = 1.86e+00 \n",
      " |frc|∞ = 1.44e-03 ; |frc|_P⁻¹ = 7.23e-03  ;  |X-X0|∞ = 2.02e+00 \n",
      " |frc|∞ = 1.56e-03 ; |frc|_P⁻¹ = 7.79e-03  ;  |X-X0|∞ = 2.18e+00 \n",
      " |frc|∞ = 1.68e-03 ; |frc|_P⁻¹ = 8.38e-03  ;  |X-X0|∞ = 2.35e+00 \n",
      " |frc|∞ = 1.80e-03 ; |frc|_P⁻¹ = 9.02e-03  ;  |X-X0|∞ = 2.54e+00 \n",
      " |frc|∞ = 1.94e-03 ; |frc|_P⁻¹ = 9.69e-03  ;  |X-X0|∞ = 2.74e+00 \n",
      " |frc|∞ = 2.09e-03 ; |frc|_P⁻¹ = 1.04e-02  ;  |X-X0|∞ = 2.96e+00 \n",
      " |frc|∞ = 2.24e-03 ; |frc|_P⁻¹ = 1.11e-02  ;  |X-X0|∞ = 3.19e+00 \n",
      " |frc|∞ = 2.40e-03 ; |frc|_P⁻¹ = 1.19e-02  ;  |X-X0|∞ = 3.44e+00 \n",
      " |frc|∞ = 2.56e-03 ; |frc|_P⁻¹ = 1.27e-02  ;  |X-X0|∞ = 3.70e+00 \n",
      " |frc|∞ = 2.73e-03 ; |frc|_P⁻¹ = 1.35e-02  ;  |X-X0|∞ = 3.99e+00 \n",
      " |frc|∞ = 2.91e-03 ; |frc|_P⁻¹ = 1.44e-02  ;  |X-X0|∞ = 4.29e+00 \n",
      " |frc|∞ = 3.08e-03 ; |frc|_P⁻¹ = 1.52e-02  ;  |X-X0|∞ = 4.61e+00 \n",
      " |frc|∞ = 3.25e-03 ; |frc|_P⁻¹ = 1.60e-02  ;  |X-X0|∞ = 4.95e+00 \n",
      " |frc|∞ = 3.42e-03 ; |frc|_P⁻¹ = 1.68e-02  ;  |X-X0|∞ = 5.30e+00 \n",
      " |frc|∞ = 3.57e-03 ; |frc|_P⁻¹ = 1.75e-02  ;  |X-X0|∞ = 5.67e+00 \n",
      " |frc|∞ = 3.70e-03 ; |frc|_P⁻¹ = 1.80e-02  ;  |X-X0|∞ = 6.05e+00 \n",
      " |frc|∞ = 3.80e-03 ; |frc|_P⁻¹ = 1.85e-02  ;  |X-X0|∞ = 6.44e+00 \n",
      " |frc|∞ = 3.86e-03 ; |frc|_P⁻¹ = 1.87e-02  ;  |X-X0|∞ = 6.84e+00 \n",
      " |frc|∞ = 3.88e-03 ; |frc|_P⁻¹ = 1.88e-02  ;  |X-X0|∞ = 7.25e+00 \n",
      " |frc|∞ = 3.85e-03 ; |frc|_P⁻¹ = 1.85e-02  ;  |X-X0|∞ = 7.65e+00 \n",
      " |frc|∞ = 3.77e-03 ; |frc|_P⁻¹ = 1.80e-02  ;  |X-X0|∞ = 8.03e+00 \n",
      " |frc|∞ = 3.64e-03 ; |frc|_P⁻¹ = 1.73e-02  ;  |X-X0|∞ = 8.41e+00 \n",
      " |frc|∞ = 3.45e-03 ; |frc|_P⁻¹ = 1.63e-02  ;  |X-X0|∞ = 8.75e+00 \n",
      " |frc|∞ = 3.21e-03 ; |frc|_P⁻¹ = 1.51e-02  ;  |X-X0|∞ = 9.08e+00 \n"
     ]
    }
   ],
   "source": [
    "# minimalistic static steepest descent to make sure it isn't a bug in minimise!\n",
    "# the following suggests that it might be all due to either a bug in precon,\n",
    "# or an awful numerical instability in TB energy evaluation.\n",
    "\n",
    "import TightBinding.NRLTB\n",
    "\n",
    "at = repeat(bulk(\"Al\"; cubic=true), (5, 5, 1))\n",
    "r0 = rnn(\"Al\")\n",
    "println(\" #at = \", length(at), \"; r0 = \", r0)\n",
    "X0 = positions(at)\n",
    "srand(12345)\n",
    "set_positions!(at, X0+0.05 * rand(size(X0)))\n",
    "# calc = TightBinding.ToyTB.ToyTBModel(r0=r0, rcut=rcut)\n",
    "calc = NRLTB.NRLTBModel(elem = NRLTB.Al_spd)\n",
    "calc.nkpoints = (1,1,1)\n",
    "# precon = AtPrecon.ExpPrecon(at, calc); precon.cstab = 0.01; alpha = 0.03\n",
    "# precon = AtPrecon.IdPrecon(); alpha = 0.1\n",
    "P = mini_precon(at, 1.1*r0); alpha = 1.0\n",
    "X = copy(X0)\n",
    "for n = 1:100\n",
    "    frc = forces(at, calc)\n",
    "    frcP = (lufact(P) \\ frc')'\n",
    "    @printf(\" |frc|∞ = %4.2e ; |frc|_P⁻¹ = %4.2e  ;  |X-X0|∞ = %4.2e \\n\", \n",
    "            vecnorm(frc, Inf), sqrt(vecdot(frc, frcP)), dist_from_X0(X0, X) )\n",
    "    X += alpha * (frcP)\n",
    "    set_positions!(at, X)\n",
    "end\n",
    "\n",
    "# plot(X[1,:][:], X[2,:][:], \"b.\")"
   ]
  },
  {
   "cell_type": "code",
   "execution_count": 24,
   "metadata": {
    "collapsed": false
   },
   "outputs": [
    {
     "data": {
      "image/png": "[encoded data removed]",
      "text/plain": [
       "PyPlot.Figure(PyObject <matplotlib.figure.Figure object at 0x3242c8d90>)"
      ]
     },
     "metadata": {},
     "output_type": "display_data"
    },
    {
     "data": {
      "text/plain": [
       "1-element Array{Any,1}:\n",
       " PyObject <matplotlib.lines.Line2D object at 0x324687e90>"
      ]
     },
     "execution_count": 24,
     "metadata": {},
     "output_type": "execute_result"
    }
   ],
   "source": [
    "plot(X[1,:][:], X[2,:][:], \"b.\")\n",
    "\n"
   ]
  },
  {
   "cell_type": "code",
   "execution_count": 29,
   "metadata": {
    "collapsed": false
   },
   "outputs": [
    {
     "name": "stdout",
     "output_type": "stream",
     "text": [
      " #at = 36"
     ]
    },
    {
     "ename": "LoadError",
     "evalue": "LoadError: InterruptException:\nwhile loading In[29], in expression starting on line 155",
     "output_type": "error",
     "traceback": [
      "LoadError: InterruptException:\nwhile loading In[29], in expression starting on line 155",
      "",
      " in forces at /Users/ortner/gits/Atoms.jl/TightBinding.jl:534"
     ]
    }
   ],
   "source": [
    "# minimalistic static steepest descent to make sure it isn't a bug in minimise!\n",
    "# the following suggests that it might be all due to either a bug in precon,\n",
    "# or an awful numerical instability in TB energy evaluation.\n",
    "\n",
    "import TightBinding.NRLTB\n",
    "\n",
    "at = repeat(bulk(\"Al\"; cubic=true), (3, 3, 1))\n",
    "r0 = rnn(\"Al\")\n",
    "println(\" #at = \", length(at), \"; r0 = \", r0)\n",
    "X0 = positions(at)\n",
    "srand(12345)\n",
    "set_positions!(at, X0+0.05 * rand(size(X0)))\n",
    "# calc = TightBinding.ToyTB.ToyTBModel(r0=r0, rcut=rcut)\n",
    "calc = NRLTB.NRLTBModel(elem = NRLTB.Al_spd)\n",
    "calc.nkpoints = (0,0,1)\n",
    "# precon = AtPrecon.ExpPrecon(at, calc); precon.cstab = 0.01; alpha = 0.03\n",
    "# precon = AtPrecon.IdPrecon(); alpha = 0.1\n",
    "P = mini_precon(at, 1.1*r0); alpha = 1.0\n",
    "X = copy(X0)\n",
    "@time frc = forces(at, calc)\n",
    "# frcP = (lufact(P) \\ frc')'\n",
    "\n",
    "\n",
    "# for n = 1:100\n",
    "#     frc = forces(at, calc)\n",
    "#     frcP = (lufact(P) \\ frc')'\n",
    "#     @printf(\" |frc|∞ = %4.2e ; |frc|_P⁻¹ = %4.2e  ;  |X-X0|∞ = %4.2e \\n\", \n",
    "#             vecnorm(frc, Inf), sqrt(vecdot(frc, frcP)), dist_from_X0(X0, X) )\n",
    "#     X += alpha * (frcP)\n",
    "#     set_positions!(at, X)\n",
    "# end\n",
    "\n",
    "# # plot(X[1,:][:], X[2,:][:], \"b.\")"
   ]
  },
  {
   "cell_type": "code",
   "execution_count": null,
   "metadata": {
    "collapsed": true
   },
   "outputs": [],
   "source": []
  }
 ],
 "metadata": {
  "kernelspec": {
   "display_name": "Julia 0.4.0",
   "language": "julia",
   "name": "julia-0.4"
  },
  "language_info": {
   "file_extension": ".jl",
   "mimetype": "application/julia",
   "name": "julia",
   "version": "0.4.0"
  }
 },
 "nbformat": 4,
 "nbformat_minor": 0
}
