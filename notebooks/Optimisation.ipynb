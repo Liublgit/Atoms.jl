{
 "cells": [
  {
   "cell_type": "code",
   "execution_count": 1,
   "metadata": {
    "collapsed": false
   },
   "outputs": [],
   "source": [
    "push!(LOAD_PATH, \"..\")\n",
    "using ASE, Potentials, MatSciPy, AtomsInterface, TestAtoms\n",
    "using PyPlot\n",
    "import AtOptim\n",
    "import AtPrecon"
   ]
  },
  {
   "cell_type": "code",
   "execution_count": 2,
   "metadata": {
    "collapsed": false
   },
   "outputs": [],
   "source": [
    "# reference configuration\n",
    "at = bulk(\"Al\"; cubic=true)\n",
    "at = repeat(at, (5, 5, 1))\n",
    "X0 = positions(at);\n",
    "# jiggle the positions\n",
    "set_positions!(at, X0+0.01 * rand(size(X0)))\n",
    "# create a calculator\n",
    "r0 = rnn(\"Al\")\n",
    "rcut = 2.5 * r0\n",
    "calc = MatSciPy.PairCalculator( SWCutoff( LennardJonesPotential(r0, 1.0), rcut, 1.0 ) )\n",
    "# TestAtoms.test_potentialenergy(calc, at)\n",
    ";"
   ]
  },
  {
   "cell_type": "code",
   "execution_count": 3,
   "metadata": {
    "collapsed": false
   },
   "outputs": [
    {
     "name": "stderr",
     "output_type": "stream",
     "text": [
      "WARNING: replacing module AtPrecon\n",
      "WARNING: replacing module AtOptim\n"
     ]
    },
    {
     "name": "stdout",
     "output_type": "stream",
     "text": [
      " #at = 4800\n",
      "-------|---------------------------------------------------------\n",
      " nit   |   ΔE        |∇E|∞     |Δx|∞      α        #E \n",
      "-------|---------------------------------------------------------\n",
      "     1 | -3.25e+04  1.84e+00  0.00e+00  1.00e+00      1 \n",
      "     2 | -3.93e+01  7.01e-01  6.59e-02  1.00e+00      2 \n",
      "     3 | -4.15e+00  2.10e-01  2.11e-02  8.58e-01      3 \n",
      "     4 | -7.60e-01  1.28e-01  1.30e-02  8.60e-01      4 \n",
      "     5 | -3.45e-01  5.54e-02  1.87e-02  1.35e+00      5 \n",
      "     6 | -7.26e-02  2.78e-02  2.30e-02  1.95e+00      6 \n",
      "     7 | -7.86e-03  1.19e-02  7.80e-03  8.84e-01      8 \n",
      "     8 | -1.82e-03  7.09e-03  1.86e-02  7.51e-01      9 \n",
      "     9 | -1.09e-03  4.72e-03  1.15e-02  9.97e-01     10 \n",
      "    10 | -8.97e-04  9.37e-04  1.75e-02  2.84e+00     11 \n",
      "    11 | -1.24e-05  6.24e-04  1.07e-02  1.28e+00     13 \n",
      "    12 | -4.93e-06  2.86e-04  9.55e-03  8.48e-01     14 \n",
      "    13 | -1.68e-06  1.95e-04  9.10e-03  7.74e-01     15 \n",
      "    14 | -1.52e-06  1.13e-04  6.79e-03  1.38e+00     16 \n",
      "    15 | -8.46e-07  4.60e-05  2.81e-02  3.20e+00     17 \n",
      "-------|---------------------------------------------------------\n",
      "  9.796089 seconds (2.15 M allocations: 3.266 GB, 11.01% gc time)\n"
     ]
    }
   ],
   "source": [
    "reload(\"AtPrecon\")\n",
    "reload(\"AtOptim\")\n",
    "at = repeat(bulk(\"Al\"; cubic=true), (20,20,3))\n",
    "println(\" #at = \", length(at))\n",
    "# precon = AtPrecon.IdPrecon()\n",
    "precon = AtPrecon.ExpPrecon(at, calc)\n",
    "X0 = positions(at)\n",
    "srand(12345)\n",
    "set_positions!(at, X0+0.05 * rand(size(X0)))\n",
    "@time AtOptim.minimise!(at, calc, 1e-4; precon=precon, disp=3, maxnit=100);"
   ]
  },
  {
   "cell_type": "code",
   "execution_count": 16,
   "metadata": {
    "collapsed": false
   },
   "outputs": [],
   "source": []
  }
 ],
 "metadata": {
  "kernelspec": {
   "display_name": "Julia 0.4.0",
   "language": "julia",
   "name": "julia-0.4"
  },
  "language_info": {
   "file_extension": ".jl",
   "mimetype": "application/julia",
   "name": "julia",
   "version": "0.4.0"
  }
 },
 "nbformat": 4,
 "nbformat_minor": 0
}
