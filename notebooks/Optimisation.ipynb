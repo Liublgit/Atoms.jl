{
 "cells": [
  {
   "cell_type": "code",
   "execution_count": 1,
   "metadata": {
    "collapsed": false
   },
   "outputs": [],
   "source": [
    "push!(LOAD_PATH, \"..\")\n",
    "using ASE, Potentials, MatSciPy, AtomsInterface, TestAtoms, TightBinding\n",
    "using PyPlot\n",
    "import AtOptim\n",
    "import AtPrecon"
   ]
  },
  {
   "cell_type": "code",
   "execution_count": 3,
   "metadata": {
    "collapsed": false
   },
   "outputs": [
    {
     "data": {
      "text/plain": [
       "MatSciPy.PairCalculator(Potentials.SWCutoff(Potentials.LennardJonesPotential(2.8637824638055176,1.0),7.159456159513794,1.0))"
      ]
     },
     "execution_count": 3,
     "metadata": {},
     "output_type": "execute_result"
    }
   ],
   "source": [
    "# reference configuration\n",
    "at = bulk(\"Al\"; cubic=true)\n",
    "at = repeat(at, (3, 3, 2))\n",
    "set_pbc!(at, (false, false, false))\n",
    "X0 = positions(at);\n",
    "# jiggle the positions\n",
    "# set_positions!(at, X0+0.01 * rand(size(X0)))\n",
    "# create a calculator\n",
    "r0 = rnn(\"Al\")\n",
    "rcut = 2.5 * r0\n",
    "calc = MatSciPy.PairCalculator( SWCutoff( LennardJonesPotential(r0, 1.0), rcut, 1.0 ) )\n",
    "# calc = TightBinding.ToyTB.ToyTBModel(r0=r0, rcut=rcut)\n",
    "# TestAtoms.test_potentialenergy(calc, at)\n",
    "# plot3D(X0[1,:][:], X0[2,:][:], X0[3,:][:], \"b.\")"
   ]
  },
  {
   "cell_type": "code",
   "execution_count": 4,
   "metadata": {
    "collapsed": false
   },
   "outputs": [
    {
     "name": "stdout",
     "output_type": "stream",
     "text": [
      " #at = 800\n",
      "-------|---------------------------------------------------------\n",
      " nit   |   ΔE        |∇E|∞     |Δx|∞      α        #E \n",
      "-------|---------------------------------------------------------\n",
      "     1 | -5.41e+03  1.80e+00  0.00e+00  1.00e+00      1 \n",
      "     2 | -6.76e+00  4.95e-01  1.14e-01  1.00e+00      2 \n",
      "     3 | -6.26e-01  2.03e-01  2.41e-01  9.63e-01      3 \n",
      "     4 | -1.68e-01  1.14e-01  1.80e-01  1.13e+00      4 \n",
      "     5 | -5.80e-02  5.27e-02  1.66e-01  1.68e+00      5 \n",
      "     6 | -8.30e-03  4.36e-02  1.24e-01  1.91e+00      6 \n",
      "     7 | -3.11e-03  2.05e-02  9.77e-02  1.08e+00      7 \n",
      "     8 | -7.20e-04  8.23e-03  4.34e-02  7.91e-01      8 \n",
      "     9 | -1.79e-04  6.09e-03  9.91e-02  8.21e-01      9 \n",
      "    10 | -2.21e-04  8.34e-04  4.71e-01  2.90e+00     10 \n",
      "    11 | -4.44e-06  4.24e-04  1.82e-01  3.19e+00     11 \n",
      "    12 | -4.89e-07  9.99e-05  1.33e-01  8.17e-01     13 \n",
      "    13 | -5.18e-08  5.60e-05  6.90e-02  7.67e-01     14 \n",
      "    14 | -5.85e-08  3.29e-05  1.59e-01  1.53e+00     15 \n",
      "    15 | -4.31e-08  7.60e-06  5.01e-01  4.02e+00     16 \n",
      "-------|---------------------------------------------------------\n",
      "  "
     ]
    }
   ],
   "source": [
    "at = repeat(bulk(\"Al\"; cubic=true), (10,10,2))\n",
    "println(\" #at = \", length(at))\n",
    "# precon = AtPrecon.IdPrecon()\n",
    "precon = AtPrecon.ExpPrecon(at, calc)\n",
    "X0 = positions(at)\n",
    "srand(12345)\n",
    "set_positions!(at, X0+0.05 * rand(size(X0)))\n",
    "@time AtOptim.minimise!(at, calc, 1e-5; precon=precon, disp=3, maxnit=100);"
   ]
  },
  {
   "cell_type": "code",
   "execution_count": 9,
   "metadata": {
    "collapsed": false
   },
   "outputs": [
    {
     "name": "stdout",
     "output_type": "stream",
     "text": [
      " #at = 72\n",
      "-----------------------------\n",
      "  p | error \n",
      "----|------------------------\n",
      "  2 | 1.0090802e-03 \n",
      "  3 | 1.0092990e-04 \n",
      "  4 | 1.0093127e-05 \n",
      "  5 | 1.0102944e-06 \n",
      "  6 | 1.1723648e-07 \n",
      "  7 | 2.0862872e-07 \n",
      "  8 | 1.6218559e-06 \n",
      "  9 | 1.8961699e-05 \n",
      " 10 | 1.7189014e-04 \n",
      "-----------------------------\n",
      "  0.605043 seconds (1.49 M allocations: 69.621 MB, 2.62% gc time)\n",
      "-------|---------------------------------------------------------\n",
      " nit   |   ΔE        |∇E|∞     |Δx|∞      α        #E \n",
      "-------|---------------------------------------------------------\n",
      "     1 | -2.44e+01  1.17e-02  0.00e+00  1.00e+00      1 \n",
      "     2 | -3.91e-03  3.46e-03  3.74e-01  4.11e-01      3 \n",
      "     3 | -3.81e-04  1.83e-03  3.00e-01  3.81e-01      4 \n",
      "     4 | -1.31e-04  1.07e-03  1.47e-01  4.05e-01      5 \n",
      "     5 | -9.31e-05  7.38e-04  2.80e-01  6.60e-01      6 \n",
      "     6 | -6.08e-05  6.82e-04  5.11e-01  8.87e-01      7 \n",
      "     7 | -3.22e-05  6.16e-04  4.60e-01  4.63e-01      8 \n",
      "     8 | -1.88e-05  5.92e-04  3.28e-01  2.44e-01      9 \n",
      "     9 | -1.95e-06  5.93e-04  1.64e-02  2.44e-02     10 \n",
      "    10 | -1.97e-07  5.93e-04  2.11e-03  2.44e-03     11 \n",
      "    11 | -1.97e-08  5.93e-04  1.21e-04  2.44e-04     12 \n",
      "    12 | -1.97e-09  5.93e-04  4.48e-05  2.44e-05     13 \n",
      "    13 | -1.97e-10  5.93e-04  1.69e-06  2.44e-06     14 \n",
      "    14 | -1.97e-09  5.93e-04  4.41e-05  2.44e-05     15 \n",
      "    15 | -1.97e-10  5.93e-04  1.59e-06  2.44e-06     16 \n",
      "    16 | -1.97e-09  5.93e-04  6.09e-05  2.44e-05     17 \n",
      "    17 | -1.97e-10  5.93e-04  1.19e-06  2.44e-06     18 \n",
      "    18 | -1.97e-11  5.93e-04  1.54e-07  2.44e-07     19 \n",
      "    19 | -1.97e-10  5.93e-04  1.80e-06  2.44e-06     20 \n",
      "    20 | -1.97e-11  5.93e-04  8.09e-08  2.44e-07     21 \n",
      "    21 | -1.97e-10  5.93e-04  1.55e-06  2.44e-06     22 \n",
      "    22 | -1.97e-11  5.93e-04  3.38e-08  2.44e-07     23 \n",
      "    23 | -1.97e-10  5.93e-04  9.72e-07  2.44e-06     24 \n",
      "    24 | -1.97e-11  5.93e-04  5.37e-08  2.44e-07     25 \n",
      "    25 | -1.97e-10  5.93e-04  3.40e-06  2.44e-06     26 \n",
      "    26 | -1.97e-09  5.93e-04  1.02e-05  2.44e-05     27 \n",
      "    27 | -1.97e-10  5.93e-04  8.08e-07  2.44e-06     28 \n",
      "    28 | -1.97e-09  5.93e-04  2.03e-05  2.44e-05     29 \n",
      "    29 | -1.97e-10  5.93e-04  4.69e-06  2.44e-06     30 \n",
      "    30 | -1.97e-09  5.93e-04  9.23e-06  2.44e-05     31 \n",
      "    31 | -1.97e-10  5.93e-04  1.71e-06  2.44e-06     32 \n",
      "    32 | -1.97e-09  5.93e-04  2.25e-05  2.44e-05     33 \n",
      "    33 | -1.97e-10  5.93e-04  2.78e-06  2.44e-06     34 \n",
      "    34 | -1.97e-11  5.93e-04  2.06e-07  2.44e-07     35 \n",
      "    35 | -1.97e-10  5.93e-04  2.26e-06  2.44e-06     36 \n",
      "    36 | -1.97e-11  5.93e-04  3.13e-07  2.44e-07     37 \n",
      "    37 | -1.97e-10  5.93e-04  3.99e-06  2.44e-06     38 \n",
      "    38 | -1.97e-09  5.93e-04  2.26e-05  2.44e-05     39 \n",
      "    39 | -1.97e-10  5.93e-04  1.09e-06  2.44e-06     40 \n",
      "    40 | -1.97e-09  5.93e-04  9.57e-06  2.44e-05     41 \n",
      "    41 | -1.97e-10  5.93e-04  1.41e-06  2.44e-06     42 \n",
      "    42 | -1.97e-11  5.93e-04  1.78e-07  2.44e-07     43 \n",
      "    43 | -1.97e-10  5.93e-04  1.64e-06  2.44e-06     44 \n",
      "    44 | -1.97e-09  5.93e-04  1.81e-05  2.44e-05     45 \n",
      "    45 | -1.97e-10  5.93e-04  1.94e-06  2.44e-06     46 \n",
      "    46 | -1.97e-09  5.93e-04  1.54e-05  2.44e-05     47 \n",
      "    47 | -1.97e-10  5.93e-04  1.46e-06  2.44e-06     48 \n",
      "    48 | -1.97e-09  5.93e-04  4.12e-05  2.44e-05     49 \n",
      "    49 | -1.97e-10  5.93e-04  2.75e-06  2.44e-06     50 \n",
      "    50 | -1.97e-09  5.93e-04  1.21e-05  2.44e-05     51 \n",
      "    51 | -1.97e-10  5.93e-04  2.62e-06  2.44e-06     52 \n",
      "    52 | -1.97e-09  5.93e-04  1.03e-05  2.44e-05     53 \n",
      "    53 | -1.97e-10  5.93e-04  1.62e-06  2.44e-06     54 \n",
      "    54 | -1.97e-09  5.93e-04  3.94e-05  2.44e-05     55 \n",
      "    55 | -1.97e-10  5.93e-04  1.70e-06  2.44e-06     56 \n",
      "    56 | -1.97e-09  5.93e-04  3.74e-05  2.44e-05     57 \n",
      "    57 | -1.97e-10  5.93e-04  6.46e-06  2.44e-06     58 \n",
      "    58 | -1.97e-09  5.93e-04  1.40e-05  2.44e-05     59 \n",
      "    59 | -1.97e-10  5.93e-04  2.71e-06  2.44e-06     60 \n",
      "    60 | -1.97e-09  5.93e-04  1.62e-05  2.44e-05     61 \n",
      "    61 | -1.97e-10  5.93e-04  7.80e-07  2.44e-06     62 \n",
      "    62 | -1.97e-09  5.93e-04  2.69e-05  2.44e-05     63 \n",
      "    63 | -1.97e-10  5.93e-04  2.43e-06  2.44e-06     64 \n",
      "    64 | -1.97e-09  5.93e-04  1.50e-05  2.44e-05     65 \n",
      "    65 | -1.97e-10  5.93e-04  3.21e-06  2.44e-06     66 \n",
      "    66 | -1.97e-09  5.93e-04  1.39e-05  2.44e-05     67 \n",
      "    67 | -1.97e-10  5.93e-04  2.53e-06  2.44e-06     68 \n",
      "    68 | -1.97e-09  5.93e-04  1.82e-05  2.44e-05     69 \n",
      "    69 | -1.97e-10  5.93e-04  1.66e-06  2.44e-06     70 \n",
      "    70 | -1.97e-09  5.93e-04  2.99e-05  2.44e-05     71 \n",
      "    71 | -1.97e-10  5.93e-04  2.58e-06  2.44e-06     72 \n",
      "    72 | -1.97e-09  5.93e-04  3.85e-05  2.44e-05     73 \n",
      "    73 | -1.97e-10  5.93e-04  1.98e-06  2.44e-06     74 \n",
      "    74 | -1.97e-11  5.93e-04  2.35e-07  2.44e-07     75 \n",
      "    75 | -1.97e-10  5.93e-04  1.21e-06  2.44e-06     76 \n",
      "    76 | -1.97e-09  5.93e-04  3.24e-05  2.44e-05     77 \n",
      "    77 | -1.97e-10  5.93e-04  4.70e-06  2.44e-06     78 \n",
      "    78 | -1.97e-09  5.93e-04  2.64e-05  2.44e-05     79 \n",
      "    79 | -1.97e-10  5.93e-04  1.95e-06  2.44e-06     80 \n",
      "    80 | -1.97e-09  5.93e-04  2.47e-05  2.44e-05     81 \n",
      "    81 | -1.97e-10  5.93e-04  1.19e-06  2.44e-06     82 \n",
      "    82 | -1.97e-09  5.93e-04  1.37e-05  2.44e-05     83 \n",
      "    83 | -1.97e-10  5.93e-04  2.35e-06  2.44e-06     84 \n",
      "    84 | -1.97e-09  5.93e-04  1.14e-05  2.44e-05     85 \n",
      "    85 | -1.97e-10  5.93e-04  1.08e-06  2.44e-06     86 \n",
      "    86 | -1.97e-09  5.93e-04  3.18e-05  2.44e-05     87 \n",
      "    87 | -1.97e-10  5.93e-04  8.82e-07  2.44e-06     88 \n",
      "    88 | -1.97e-09  5.93e-04  3.98e-05  2.44e-05     89 \n",
      "    89 | -1.97e-10  5.93e-04  5.19e-06  2.44e-06     90 \n",
      "    90 | -1.97e-09  5.93e-04  6.14e-06  2.44e-05     91 \n",
      "    91 | -1.97e-10  5.93e-04  1.44e-06  2.44e-06     92 \n",
      "    92 | -1.97e-09  5.93e-04  3.16e-05  2.44e-05     93 \n",
      "    93 | -1.97e-10  5.93e-04  1.30e-06  2.44e-06     94 \n",
      "    94 | -1.97e-11  5.93e-04  1.58e-07  2.44e-07     95 \n",
      "    95 | -1.97e-10  5.93e-04  2.87e-06  2.44e-06     96 \n",
      "    96 | -1.97e-09  5.93e-04  5.44e-05  2.44e-05     97 \n",
      "    97 | -1.97e-10  5.93e-04  8.86e-07  2.44e-06     98 \n",
      "    98 | -1.97e-09  5.93e-04  4.13e-05  2.44e-05     99 \n",
      "    99 | -1.97e-10  5.93e-04  9.00e-07  2.44e-06    100 \n",
      "   100 | -1.97e-11  5.93e-04  1.49e-07  2.44e-07    101 \n"
     ]
    }
   ],
   "source": [
    "at = repeat(bulk(\"Al\"; cubic=true), (3, 3, 2))\n",
    "println(\" #at = \", length(at))\n",
    "X0 = positions(at)\n",
    "srand(12345)\n",
    "set_positions!(at, X0+0.05 * rand(size(X0)))\n",
    "calc = TightBinding.ToyTB.ToyTBModel(r0=r0, rcut=rcut)\n",
    "calc.nkpoints = (0,0,2)\n",
    "TestAtoms.test_potentialenergy(calc, at)\n",
    "@time precon = AtPrecon.ExpPrecon(at, calc); precon.cstab = 0.1\n",
    "# precon = AtPrecon.IdPrecon()\n",
    "AtOptim.minimise!(at, calc, 1e-4; precon=precon, disp=3, maxnit=100);"
   ]
  },
  {
   "cell_type": "code",
   "execution_count": 13,
   "metadata": {
    "collapsed": false
   },
   "outputs": [
    {
     "data": {
      "text/plain": [
       "mini_precon (generic function with 1 method)"
      ]
     },
     "execution_count": 13,
     "metadata": {},
     "output_type": "execute_result"
    }
   ],
   "source": [
    "function dist_from_X0(X, X0)\n",
    "    R0 = X0[:, 2:4] .- X0[:,1]\n",
    "    R = X[:, 2:4] .- X[:,1]\n",
    "    # Q * R = R0 ⇔ Q = R0 / R\n",
    "    Q = R0 / R\n",
    "    X0 = X0 .- X0[:,1]\n",
    "    X = X .- X[:,1]\n",
    "    X = Q * X\n",
    "    return sqrt(maximum(sumabs2(X0-X)))\n",
    "end\n",
    "\n",
    "function mini_precon(at, rcut)\n",
    "    i, j = MatSciPy.neighbour_list(at, \"ij\", rcut)\n",
    "    v = ones(length(i))\n",
    "    P = sparse(i, i, v) - sparse(i, j, v) + 0.1 * speye(length(at))\n",
    "    return P\n",
    "end\n",
    "\n"
   ]
  },
  {
   "cell_type": "code",
   "execution_count": 32,
   "metadata": {
    "collapsed": false
   },
   "outputs": [
    {
     "name": "stdout",
     "output_type": "stream",
     "text": [
      " #at = 36; r0 = 2.8637824638055176\n",
      " |frc|∞ = 4.45e-01 ; |frc|_P⁻¹ = 4.93e-01  ;  |X-X0|∞ = 1.43e+00 \n",
      " |frc|∞ = 2.72e-01 ; |frc|_P⁻¹ = 2.91e-01  ;  |X-X0|∞ = 1.35e+00 \n",
      " |frc|∞ = 1.95e-01 ; |frc|_P⁻¹ = 2.01e-01  ;  |X-X0|∞ = 1.27e+00 \n",
      " |frc|∞ = 1.54e-01 ; |frc|_P⁻¹ = 1.61e-01  ;  |X-X0|∞ = 1.20e+00 \n",
      " |frc|∞ = 1.46e-01 ; |frc|_P⁻¹ = 1.42e-01  ;  |X-X0|∞ = 1.14e+00 \n",
      " |frc|∞ = 1.42e-01 ; |frc|_P⁻¹ = 1.34e-01  ;  |X-X0|∞ = 1.08e+00 \n",
      " |frc|∞ = 1.38e-01 ; |frc|_P⁻¹ = 1.33e-01  ;  |X-X0|∞ = 1.04e+00 \n",
      " |frc|∞ = 1.36e-01 ; |frc|_P⁻¹ = 1.36e-01  ;  |X-X0|∞ = 1.01e+00 \n",
      " |frc|∞ = 1.35e-01 ; |frc|_P⁻¹ = 1.44e-01  ;  |X-X0|∞ = 9.94e-01 \n",
      " |frc|∞ = 1.36e-01 ; |frc|_P⁻¹ = 1.54e-01  ;  |X-X0|∞ = 9.93e-01 \n",
      " |frc|∞ = 1.39e-01 ; |frc|_P⁻¹ = 1.68e-01  ;  |X-X0|∞ = 1.01e+00 \n",
      " |frc|∞ = 1"
     ]
    },
    {
     "ename": "LoadError",
     "evalue": "LoadError: InterruptException:\nwhile loading In[32], in expression starting on line 30",
     "output_type": "error",
     "traceback": [
      "LoadError: InterruptException:\nwhile loading In[32], in expression starting on line 30",
      "",
      " in dR_h_hop at /Users/ortner/gits/Atoms.jl/NRLTB.jl:464",
      " in d_mat_local! at /Users/ortner/gits/Atoms.jl/NRLTB.jl:720",
      " in grad at /Users/ortner/gits/Atoms.jl/NRLTB.jl:102",
      " in grad! at /Users/ortner/gits/Atoms.jl/Potentials.jl:113",
      " in forces_k at /Users/ortner/gits/Atoms.jl/TightBinding.jl:634",
      " in forces at /Users/ortner/gits/Atoms.jl/TightBinding.jl:672",
      " [inlined code] from In[32]:32",
      " in anonymous at no file:0"
     ]
    }
   ],
   "source": [
    "# minimalistic static steepest descent to make sure it isn't a bug in minimise!\n",
    "# the following suggests that it might be all due to either a bug in precon,\n",
    "# or an awful numerical instability in TB energy evaluation.\n",
    "\n",
    "import TightBinding.NRLTB\n",
    "\n",
    "pygui(true)\n",
    "PyPlot.ion()\n",
    "\n",
    "at = repeat(bulk(\"Al\"; cubic=true), (3, 3, 1))\n",
    "set_pbc!(at, (true, true, true))\n",
    "r0 = rnn(\"Al\")\n",
    "println(\" #at = \", length(at), \"; r0 = \", r0)\n",
    "# calc = TightBinding.ToyTB.ToyTBModel(r0=r0, rcut=rcut)\n",
    "calc = NRLTB.NRLTBModel(elem = NRLTB.Al_spd, beta=100)\n",
    "calc.nkpoints = (0,0,0)\n",
    "calc.fixed_eF = false\n",
    "TightBinding.update!(at, calc)\n",
    "\n",
    "# perturb positions\n",
    "X0 = positions(at)\n",
    "srand(12345)\n",
    "set_positions!(at, X0 + 0.1 * rand(size(X0)))\n",
    "\n",
    "# precon = AtPrecon.ExpPrecon(at, calc); precon.cstab = 0.01; alpha = 0.03\n",
    "# precon = AtPrecon.IdPrecon(); alpha = 0.1\n",
    "P = mini_precon(at, 1.1*r0); alpha = 0.3\n",
    "# P = 1; alpha = 0.1\n",
    "X = positions(at)\n",
    "for n = 1:100\n",
    "    plot(X0[1,:][:], X0[2,:][:], \"rx\", X[1,:][:], X[2,:][:], \"b.\")\n",
    "    frc = forces(at, calc)\n",
    "    # frcP = (lufact(P) \\ frc')'\n",
    "    frcP = (P \\ frc')'\n",
    "    @printf(\" |frc|∞ = %4.2e ; |frc|_P⁻¹ = %4.2e  ;  |X-X0|∞ = %4.2e \\n\", \n",
    "            vecnorm(frc, Inf), sqrt(vecdot(frc, frcP)), dist_from_X0(X0, X) )\n",
    "    X += alpha * frcP\n",
    "    set_positions!(at, X)\n",
    "end\n",
    "\n",
    "# plot(X[1,:][:], X[2,:][:], \"b.\")"
   ]
  },
  {
   "cell_type": "code",
   "execution_count": 10,
   "metadata": {
    "collapsed": false
   },
   "outputs": [
    {
     "name": "stdout",
     "output_type": "stream",
     "text": [
      "1."
     ]
    },
    {
     "data": {
      "image/png": "[encoded data removed]",
      "text/plain": [
       "PyPlot.Figure(PyObject <matplotlib.figure.Figure object at 0x319afa490>)"
      ]
     },
     "metadata": {},
     "output_type": "display_data"
    },
    {
     "name": "stdout",
     "output_type": "stream",
     "text": [
      "5000384025463753e-7Inf\n"
     ]
    }
   ],
   "source": [
    "plot(X[1,:][:], X[2,:][:], \"b.\")\n"
   ]
  },
  {
   "cell_type": "code",
   "execution_count": null,
   "metadata": {
    "collapsed": true
   },
   "outputs": [],
   "source": []
  },
  {
   "cell_type": "code",
   "execution_count": null,
   "metadata": {
    "collapsed": true
   },
   "outputs": [],
   "source": []
  },
  {
   "cell_type": "code",
   "execution_count": null,
   "metadata": {
    "collapsed": true
   },
   "outputs": [],
   "source": []
  },
  {
   "cell_type": "code",
   "execution_count": null,
   "metadata": {
    "collapsed": true
   },
   "outputs": [],
   "source": []
  }
 ],
 "metadata": {
  "kernelspec": {
   "display_name": "Julia 0.4.0-rc4",
   "language": "julia",
   "name": "julia-0.4"
  },
  "language_info": {
   "file_extension": ".jl",
   "mimetype": "application/julia",
   "name": "julia",
   "version": "0.4.0"
  }
 },
 "nbformat": 4,
 "nbformat_minor": 0
}
