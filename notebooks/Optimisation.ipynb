{
 "cells": [
  {
   "cell_type": "code",
   "execution_count": 1,
   "metadata": {
    "collapsed": false
   },
   "outputs": [],
   "source": [
    "push!(LOAD_PATH, \"..\")\n",
    "using ASE, Potentials, MatSciPy, AtomsInterface, TestAtoms, TightBinding\n",
    "using PyPlot\n",
    "import AtOptim\n",
    "import AtPrecon"
   ]
  },
  {
   "cell_type": "code",
   "execution_count": null,
   "metadata": {
    "collapsed": false
   },
   "outputs": [
    {
     "name": "stderr",
     "output_type": "stream",
     "text": [
      "WARNING: could not attach metadata for @simd loop.\n"
     ]
    },
    {
     "name": "stdout",
     "output_type": "stream",
     "text": [
      "-----------------------------\n",
      "  p | error \n",
      "----|------------------------\n",
      "  2 | 2.5104853e-03 \n",
      "  3 | 2.5085740e-04 \n",
      "  4 | 2.5083939e-05 \n",
      "  "
     ]
    }
   ],
   "source": [
    "# reference configuration\n",
    "at = bulk(\"Al\"; cubic=true)\n",
    "at = repeat(at, (5, 5, 1))\n",
    "set_pbc!(at, (false, false, false))\n",
    "X0 = positions(at);\n",
    "# jiggle the positions\n",
    "set_positions!(at, X0+0.01 * rand(size(X0)))\n",
    "# create a calculator\n",
    "r0 = rnn(\"Al\")\n",
    "rcut = 2.5 * r0\n",
    "# calc = MatSciPy.PairCalculator( SWCutoff( LennardJonesPotential(r0, 1.0), rcut, 1.0 ) )\n",
    "calc = TightBinding.ToyTB.ToyTBModel(r0=r0, rcut=rcut)\n",
    "TestAtoms.test_potentialenergy(calc, at)\n",
    ";"
   ]
  },
  {
   "cell_type": "code",
   "execution_count": null,
   "metadata": {
    "collapsed": false
   },
   "outputs": [
    {
     "name": "stderr",
     "output_type": "stream",
     "text": [
      "WARNING: replacing module AtPrecon\n",
      "WARNING: replacing module AtOptim\n"
     ]
    },
    {
     "name": "stdout",
     "output_type": "stream",
     "text": [
      " #at = 4800"
     ]
    }
   ],
   "source": [
    "reload(\"AtPrecon\")\n",
    "reload(\"AtOptim\")\n",
    "at = repeat(bulk(\"Al\"; cubic=true), (20,20,3))\n",
    "println(\" #at = \", length(at))\n",
    "# precon = AtPrecon.IdPrecon()\n",
    "precon = AtPrecon.ExpPrecon(at, calc)\n",
    "X0 = positions(at)\n",
    "srand(12345)\n",
    "set_positions!(at, X0+0.05 * rand(size(X0)))\n",
    "@time AtOptim.minimise!(at, calc, 1e-4; precon=precon, disp=3, maxnit=100);"
   ]
  },
  {
   "cell_type": "code",
   "execution_count": 16,
   "metadata": {
    "collapsed": false
   },
   "outputs": [],
   "source": []
  }
 ],
 "metadata": {
  "kernelspec": {
   "display_name": "Julia 0.4.0",
   "language": "julia",
   "name": "julia-0.4"
  },
  "language_info": {
   "file_extension": ".jl",
   "mimetype": "application/julia",
   "name": "julia",
   "version": "0.4.0"
  }
 },
 "nbformat": 4,
 "nbformat_minor": 0
}
