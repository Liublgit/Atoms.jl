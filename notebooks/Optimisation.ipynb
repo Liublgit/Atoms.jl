{
 "cells": [
  {
   "cell_type": "code",
   "execution_count": 1,
   "metadata": {
    "collapsed": false
   },
   "outputs": [],
   "source": [
    "push!(LOAD_PATH, \"..\")\n",
    "using ASE, Potentials, MatSciPy, AtomsInterface, TestAtoms, TightBinding\n",
    "using PyPlot\n",
    "import AtOptim\n",
    "import AtPrecon"
   ]
  },
  {
   "cell_type": "code",
   "execution_count": 2,
   "metadata": {
    "collapsed": false
   },
   "outputs": [
    {
     "name": "stderr",
     "output_type": "stream",
     "text": [
      "WARNING: could not attach metadata for @simd loop.\n"
     ]
    },
    {
     "name": "stdout",
     "output_type": "stream",
     "text": [
      "-----------------------------\n",
      "  p | error \n",
      "----|------------------------\n",
      "  2 | 2.5104853e-03 \n",
      "  3 | 2.5085740e-04 \n",
      "  4 | 2.5083939e-05 \n",
      "  5 | 2.5067275e-06 \n",
      "  6 | 2.6688192e-07 \n",
      "  7 | 3.4464724e-07 \n",
      "  8 | 3.1251414e-06 \n",
      "  9 | 3.5275321e-05 \n",
      " 10 | 3.8457008e-04 \n",
      "-----------------------------\n"
     ]
    }
   ],
   "source": [
    "# reference configuration\n",
    "at = bulk(\"Al\"; cubic=true)\n",
    "at = repeat(at, (5, 5, 1))\n",
    "set_pbc!(at, (false, false, false))\n",
    "X0 = positions(at);\n",
    "# jiggle the positions\n",
    "set_positions!(at, X0+0.01 * rand(size(X0)))\n",
    "# create a calculator\n",
    "r0 = rnn(\"Al\")\n",
    "rcut = 2.5 * r0\n",
    "# calc = MatSciPy.PairCalculator( SWCutoff( LennardJonesPotential(r0, 1.0), rcut, 1.0 ) )\n",
    "calc = TightBinding.ToyTB.ToyTBModel(r0=r0, rcut=rcut)\n",
    "TestAtoms.test_potentialenergy(calc, at)\n",
    ";"
   ]
  },
  {
   "cell_type": "code",
   "execution_count": null,
   "metadata": {
    "collapsed": false
   },
   "outputs": [
    {
     "name": "stderr",
     "output_type": "stream",
     "text": [
      "WARNING: replacing module AtPrecon\n",
      "WARNING: replacing module AtOptim\n"
     ]
    },
    {
     "name": "stdout",
     "output_type": "stream",
     "text": [
      " #at = 4800"
     ]
    }
   ],
   "source": [
    "at = repeat(bulk(\"Al\"; cubic=true), (10,10,2))\n",
    "println(\" #at = \", length(at))\n",
    "# precon = AtPrecon.IdPrecon()\n",
    "precon = AtPrecon.ExpPrecon(at, calc)\n",
    "X0 = positions(at)\n",
    "srand(12345)\n",
    "set_positions!(at, X0+0.05 * rand(size(X0)))\n",
    "@time AtOptim.minimise!(at, calc, 1e-4; precon=precon, disp=3, maxnit=100);"
   ]
  },
  {
   "cell_type": "code",
   "execution_count": 7,
   "metadata": {
    "collapsed": false
   },
   "outputs": [
    {
     "name": "stdout",
     "output_type": "stream",
     "text": [
      " #at = 108\n",
      "  3.487476 seconds (64.35 M allocations: 1.790 GB, 8.32% gc time)\n",
      "-------|---------------------------------------------------------\n",
      " nit   |   ΔE        |∇E|∞     |Δx|∞      α        #E \n",
      "-------|---------------------------------------------------------\n",
      "     1 | -7.41e+01  2.44e-02  0.00e+00  1.00e+00      1 \n",
      "     2 | -1.12e-02  6.92e-03  8.38e-02  1.85e-01      3 \n",
      "     3 | -1.12e-03  3.53e-03  1.24e-01  1.70e-01      4 \n",
      "     4 | -3.93e-04  2.06e-03  1.03e-01  1.80e-01      5 \n",
      "     5 | -3.18e-04  1.59e-03  1.33e-01  2.84e-01      6 \n",
      "     6 | -2.82e-04  1.43e-03  2.60e-01  3.63e-01      7 \n",
      "     7 | -9.68e-05  1.42e-03  1.26e-01  1.05e-01      8 \n",
      "     8 | -1.03e-05  1.43e-03  4.47e-03  1.05e-02      9 \n",
      "     9 | -1.04e-06  1.43e-03  7.35e-04  1.05e-03     10 \n",
      "    10 | -1.04e-07  1.43e-03  5.87e-05  1.05e-04     11 \n",
      "    11 | -1.04e-08  1.43e-03  7.06e-06  1.05e-05     12 \n",
      "    12 | -1.04e-09  1.43e-03  8.44e-07  1.05e-06     13 \n",
      "    13 | -1.04e-10  1.43e-03  7.64e-08  1.05e-07     14 \n",
      "  "
     ]
    },
    {
     "ename": "LoadError",
     "evalue": "LoadError: ls_armijo! : alpha < alpha_min \nwhile loading In[7], in expression starting on line 10",
     "output_type": "error",
     "traceback": [
      "LoadError: ls_armijo! : alpha < alpha_min \nwhile loading In[7], in expression starting on line 10",
      "",
      " in ls_armijo! at /Users/ortner/gits/Atoms.jl/AtOptim.jl:185",
      " in minimise! at /Users/ortner/gits/Atoms.jl/AtOptim.jl:114"
     ]
    },
    {
     "name": "stdout",
     "output_type": "stream",
     "text": [
      "  14 | -1.04e-11  1.43e-03  3.81e-09  1.05e-08     15 \n"
     ]
    }
   ],
   "source": [
    "at = repeat(bulk(\"Al\"; cubic=true), (3, 3, 3))\n",
    "println(\" #at = \", length(at))\n",
    "X0 = positions(at)\n",
    "srand(12345)\n",
    "set_positions!(at, X0+0.05 * rand(size(X0)))\n",
    "calc = TightBinding.ToyTB.ToyTBModel(r0=r0, rcut=rcut)\n",
    "calc.nkpoints = (0,0,1)\n",
    "@time precon = AtPrecon.ExpPrecon(at, calc)\n",
    "# precon = AtPrecon.IdPrecon()\n",
    "AtOptim.minimise!(at, calc, 1e-4; precon=precon, disp=3, maxnit=100);"
   ]
  },
  {
   "cell_type": "code",
   "execution_count": 13,
   "metadata": {
    "collapsed": false
   },
   "outputs": [
    {
     "name": "stdout",
     "output_type": "stream",
     "text": [
      " #at = 108\n",
      " |frc|∞ = 1.82e-02 \n",
      " |frc|∞ = 1.09e-02 \n",
      " |frc|∞ = 4.30e-03 \n",
      " |frc|∞ = 2.13e-03 \n",
      " |frc|∞ = 1.10e-03 \n",
      " |frc|∞ = 6.17e-04 \n",
      " |frc|∞ = 4.41e-04 \n",
      " |frc|∞ = 3.16e-04 \n",
      " |frc|∞ = 2.44e-04 \n",
      " |frc|∞ = 1.90e-04 \n",
      " |frc|∞ = 1.65e-04 \n",
      " |frc|∞ = 1.48e-04 \n",
      " |frc|∞ = 1.42e-04 \n",
      " |frc|∞ = 1.42e-04 \n",
      " |frc|∞ = 1.43e-04 \n",
      " |frc|∞ = 1.45e-04 \n",
      " |frc|∞ = 1.49e-04 \n",
      " |frc|∞ = 1.54e-04 \n",
      " |frc|∞ = 1.60e-04 \n",
      " |frc|∞ = 1.68e-04 \n"
     ]
    }
   ],
   "source": [
    "at = repeat(bulk(\"Al\"; cubic=true), (3, 3, 3))\n",
    "println(\" #at = \", length(at))\n",
    "X0 = positions(at)\n",
    "srand(12345)\n",
    "set_positions!(at, X0+0.05 * rand(size(X0)))\n",
    "calc = TightBinding.ToyTB.ToyTBModel(r0=r0, rcut=rcut)\n",
    "calc.nkpoints = (0,0,1)\n",
    "precon = AtPrecon.ExpPrecon(at, calc); precon.cstab = 0.1\n",
    "# precon = AtPrecon.IdPrecon()\n",
    "alpha = 0.1\n",
    "X = copy(X0)\n",
    "for n = 1:20\n",
    "    frc = forces(at, calc)\n",
    "    @printf(\" |frc|∞ = %4.2e \\n\", vecnorm(frc, Inf))\n",
    "    X += alpha * (frc / precon)\n",
    "    set_positions!(at, X)\n",
    "end\n"
   ]
  },
  {
   "cell_type": "code",
   "execution_count": null,
   "metadata": {
    "collapsed": true
   },
   "outputs": [],
   "source": []
  }
 ],
 "metadata": {
  "kernelspec": {
   "display_name": "Julia 0.4.0",
   "language": "julia",
   "name": "julia-0.4"
  },
  "language_info": {
   "file_extension": ".jl",
   "mimetype": "application/julia",
   "name": "julia",
   "version": "0.4.0"
  }
 },
 "nbformat": 4,
 "nbformat_minor": 0
}
