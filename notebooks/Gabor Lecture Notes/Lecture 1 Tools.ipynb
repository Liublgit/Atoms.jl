{
 "cells": [
  {
   "cell_type": "markdown",
   "metadata": {},
   "source": [
    "# Advanced Topics in Molecular Dynamics\n",
    "Gábor Csányi (Engineering Laboratory, Cambridge, UK)"
   ]
  },
  {
   "cell_type": "markdown",
   "metadata": {},
   "source": [
    "# jupyter \n",
    "\n",
    "ju(lia) py(thon) ter(minal)\n",
    "\n"
   ]
  },
  {
   "cell_type": "markdown",
   "metadata": {},
   "source": [
    "## Lecture 1: Tools\n",
    "\n",
    "* Jupyter notebooks: compute and plotting environment\n",
    "* Julia language: best bits of Matlab and Python, just-in-time compiled http://julialang.org\n",
    " * (Python also possible: interfaces to atomistic tools are via Python anyway)\n",
    "* ASE (Atomic Simulation Environment), a Python package to manage atomic configurations\n",
    " * Homepage: https://wiki.fysik.dtu.dk/ase/\n",
    " * James Kermode's fork: https://gitlab.com/jameskermode/ase\n",
    "* QUIP (QUantum mechanics and Interatomic Potentials) https://github.com/libAtoms/QUIP\n",
    " * many potentials and their combinations, including wrappers to other codes, Python interface\n",
    "* LAMMPS (Large-scale Atomic/Molecular Massively Parallel Simulator) http://lammps.sandia.gov"
   ]
  },
  {
   "cell_type": "markdown",
   "metadata": {},
   "source": [
    "# Lecture 2: Molecular Dynamics\n",
    "\n",
    "* Discretisation, Langevin thermostats\n",
    "* Sampling error, error bars\n",
    "* The hydrogen bond in the water dimer\n",
    "* Thermal expansion of the water hexamer\n"
   ]
  },
  {
   "cell_type": "markdown",
   "metadata": {},
   "source": [
    "# Lecture 3: Function fitting and interpolation\n",
    "\n",
    "* Kernel fitting (basis functions, regularisation)\n",
    "* Gaussian process (variance, noise tolerance)\n",
    "* Free energy suface reconstruction: fitting a function from noisy derivatives\n",
    " "
   ]
  },
  {
   "cell_type": "markdown",
   "metadata": {},
   "source": [
    "# Lecture 4: Fitting interatomic potentials\n",
    "\n",
    "* Notions of locality in quantum mechanics\n",
    "* Body expansion (materials systems, water dimer)\n",
    "* Fitting to linear combinations of data: total energies and forces\n",
    "* Example: bulk silicon, tungsten\n",
    "* Fitting the difference between potential energy surfaces: helium in tungsten  \n"
   ]
  },
  {
   "cell_type": "markdown",
   "metadata": {},
   "source": [
    "# Lecture 5: Atomistic and molecular descriptors\n",
    "\n",
    "* An incomplete desriptor: unordered interatomic distances, reconstruction test\n",
    "* Smooth Overlap of Atomic Positions (SOAP)\n",
    "* SOAP as an order parameter: identify structures and defects\n",
    "* Molecular and period structures: the reMATCH kernel\n",
    "* Map of chemical space\n"
   ]
  },
  {
   "cell_type": "markdown",
   "metadata": {},
   "source": [
    "# Lecture 6: Thermodynamics from first principles\n",
    "\n",
    "* Partition function, response functions\n",
    "* First order phase transitions\n",
    "* Nested sampling\n",
    "* Lennard-Jones clusters, condensed phase diagram\n",
    "* Comparison to parallel tempering, Wang-Landau\n"
   ]
  },
  {
   "cell_type": "code",
   "execution_count": null,
   "metadata": {
    "collapsed": false
   },
   "outputs": [],
   "source": [
    "include(\"mdlecturesrc.jl\")"
   ]
  },
  {
   "cell_type": "code",
   "execution_count": null,
   "metadata": {
    "collapsed": false,
    "hideCode": false,
    "hidePrompt": false
   },
   "outputs": [],
   "source": [
    "miframe(\"http://julialang.org\")"
   ]
  },
  {
   "cell_type": "code",
   "execution_count": null,
   "metadata": {
    "collapsed": false,
    "hideCode": false,
    "scrolled": false
   },
   "outputs": [],
   "source": [
    "miframe(\"https://wiki.fysik.dtu.dk/ase/\")"
   ]
  },
  {
   "cell_type": "code",
   "execution_count": null,
   "metadata": {
    "collapsed": false,
    "hideCode": false
   },
   "outputs": [],
   "source": [
    "miframe(\"http://lammps.sandia.gov\")"
   ]
  },
  {
   "cell_type": "markdown",
   "metadata": {},
   "source": [
    "## Create a molecule"
   ]
  },
  {
   "cell_type": "code",
   "execution_count": null,
   "metadata": {
    "collapsed": true
   },
   "outputs": [],
   "source": [
    "h2o = quippy.Atoms(n=3, lattice=[10 0 0 ; 0 10 0 ; 0 0 10], numbers=[8,1,1],\n",
    "                    positions=[0 0 0; 0.96 0 0 ; -0.23 0.93 0]);"
   ]
  },
  {
   "cell_type": "code",
   "execution_count": null,
   "metadata": {
    "collapsed": false
   },
   "outputs": [],
   "source": [
    "imolecule_draw(h2o)"
   ]
  },
  {
   "cell_type": "markdown",
   "metadata": {},
   "source": [
    "## Parametrisation of the water monomer potential enegy surface by Partridge and Schwenke\n",
    "\n",
    "Harry Partridge & David W Schwenke, The Journal of Chemical Physics, __106__ 4618–4639 (1997)\n",
    "\n",
    "_The determination of an accurate isotope dependent potential energy surface for water from extensive ab initio calculations and experimental data._\n",
    "\n"
   ]
  },
  {
   "cell_type": "code",
   "execution_count": null,
   "metadata": {
    "collapsed": false
   },
   "outputs": [],
   "source": [
    "ps = quippy.Potential(\"IP PartridgeSchwenke force_using_fd=T\", \n",
    "                        param_filename=\"quip_params.xml\");"
   ]
  },
  {
   "cell_type": "code",
   "execution_count": null,
   "metadata": {
    "collapsed": false
   },
   "outputs": [],
   "source": [
    "ps[:calc](h2o, args_str=\"energy\"); println(h2o[:energy])"
   ]
  },
  {
   "cell_type": "code",
   "execution_count": null,
   "metadata": {
    "collapsed": false
   },
   "outputs": [],
   "source": [
    "x,y = grids.meshgrid(-1.0:0.05:0.4, [(-1.25:0.05:-0.4) ;(0.4:0.05:1.25)])\n",
    "h2o_ps_energy = zeros(x)\n",
    "for i=1:length(x)\n",
    "    h2o[:set_positions]([0 0 0; 0.96 0 0 ; x[i] y[i] 0])\n",
    "    ps[:calc](h2o, args_str=\"energy\"); h2o_ps_energy[i] = h2o[:energy]\n",
    "end"
   ]
  },
  {
   "cell_type": "code",
   "execution_count": null,
   "metadata": {
    "collapsed": false
   },
   "outputs": [],
   "source": [
    "figure(figsize=(7,5))\n",
    "contourf(x, y, h2o_ps_energy, 0:0.1:1, cmap=\"winter\"); title(\"H2O Potential energy surface (Partridge-Schwenke)\")\n",
    "contour(x, y, h2o_ps_energy, [0.025], colors=\"w\", linestyles=\"dashed\")\n",
    "axis([-1, 1.2, -1.3, 1.3])\n",
    "patch_h2o()\n",
    "close(gcf())"
   ]
  },
  {
   "cell_type": "markdown",
   "metadata": {},
   "source": [
    "## Fitting quadratic bond and angle springs\n",
    "\n",
    "$$\n",
    "E_\\mathrm{quad} = \\alpha_0 + \\alpha_1 \\theta + \\alpha_2 \\theta^2 + \\sum_{i \\in \\{1,2\\}} \\beta_0 + \\beta_1 r_{\\mathrm{OH}_i} + \\beta_2 r_{\\mathrm{OH}_i}^2\n",
    "$$\n",
    "\n",
    "Least squares fit:\n",
    "\n",
    "$$\n",
    "\\alpha^*, \\beta^* = \\mathrm{arg}\\min_{\\alpha,\\beta} \\sum_{n\\in\\mathrm{configs}} \\left|E_\\mathrm{quad}(n | \\alpha,\\beta) - E_\\mathrm{PS}(n)\\right|^2\n",
    "$$\n",
    "\n",
    "Coefficients in $E_\\mathrm{quad}$ are _linear_, so fit can be accomplished by linear algebra, e.g. by choosing configurations in which only one coordinate changes, i.e. one of the bond lengths, or the bond angle"
   ]
  },
  {
   "cell_type": "markdown",
   "metadata": {},
   "source": [
    "#### Compute the energy as a function of O-H bond distance"
   ]
  },
  {
   "cell_type": "code",
   "execution_count": null,
   "metadata": {
    "collapsed": false,
    "hideCode": false
   },
   "outputs": [],
   "source": [
    "r = 0.88:0.01:1.05\n",
    "Er = zeros(r)\n",
    "for i=1:length(r)\n",
    "    h2o[:set_positions]([0 0 0; r[i] 0 0 ; 0.96*cos(105/180*π) 0.96*sin(105/180*π) 0])\n",
    "    ps[:calc](h2o, args_str=\"energy\"); Er[i] = h2o[:energy]\n",
    "end"
   ]
  },
  {
   "cell_type": "markdown",
   "metadata": {},
   "source": [
    "#### Compute the energy as a function of H-O-H bond angle"
   ]
  },
  {
   "cell_type": "code",
   "execution_count": null,
   "metadata": {
    "collapsed": false
   },
   "outputs": [],
   "source": [
    "θ = (90.0:120.0)/180*π\n",
    "Eθ = zeros(θ)\n",
    "for i=1:length(θ)\n",
    "    h2o[:set_positions]([0 0 0; 0.96 0 0 ; 0.96*cos(θ[i]) 0.96*sin(θ[i]) 0])\n",
    "    ps[:calc](h2o, args_str=\"energy\"); Eθ[i] = h2o[:energy]\n",
    "end"
   ]
  },
  {
   "cell_type": "code",
   "execution_count": null,
   "metadata": {
    "collapsed": false
   },
   "outputs": [],
   "source": [
    "figure(figsize=(8,4))\n",
    "subplot(121)\n",
    "plot(r, Er, \"o-\")\n",
    "plot([r[1],r[end]], [0.025,0.025], \"k:\")\n",
    "xlabel(\"O-H distance / A\"); ylabel(\"Energy / eV\")\n",
    "\n",
    "subplot(122)\n",
    "plot(θ*180/π, Eθ, \"o-\")\n",
    "plot([θ[1],θ[end]]*180/π, [0.025,0.025], \"k:\")\n",
    "xlabel(\"H-O-H angle \"); ylabel(\"Energy / eV\")\n",
    "\n",
    "tight_layout()\n",
    "close(gcf())"
   ]
  },
  {
   "cell_type": "markdown",
   "metadata": {},
   "source": [
    "#### compute coefficients "
   ]
  },
  {
   "cell_type": "markdown",
   "metadata": {},
   "source": [
    "$$\n",
    "\\beta^T A \\approx E\n",
    "$$\n",
    "\n",
    "$$\n",
    "\\left[\\begin{matrix}\n",
    "\\beta_0\\\\\n",
    "\\beta_1\\\\\n",
    "\\beta_2\n",
    "\\end{matrix}\\right]^T\n",
    "\\left[\\begin{matrix}\n",
    "1 & 1 & \\ldots & 1\\\\\n",
    "r_1(1) & r_1(2) & \\ldots & r_1(n)\\\\\n",
    "r_1^2(1) & r_1^2(2) & \\ldots & r_1^2(n)\\\\\n",
    "\\end{matrix}\\right]\n",
    "\\approx\n",
    "\\left[\\begin{matrix}\n",
    "E(1) & E(2) & \\ldots & E(n)\n",
    "\\end{matrix}\\right]\n",
    "$$\n",
    "\n",
    "$$\n",
    "\\Rightarrow\\qquad\n",
    "\\beta^T =  E A^{+}\n",
    "$$\n",
    "\n",
    "where $A^{+}$ is the pseudoinverse, such that $A A^{+} = I$, given by $A^{+} = A(AA)^{-1}$"
   ]
  },
  {
   "cell_type": "markdown",
   "metadata": {},
   "source": [
    "#### Fit quadratic"
   ]
  },
  {
   "cell_type": "code",
   "execution_count": null,
   "metadata": {
    "collapsed": false
   },
   "outputs": [],
   "source": [
    "rr = r[4:14]\n",
    "A = [ones(length(rr))' ;  rr' ; rr'.^2 ]\n",
    "bond = A' \\ Er[4:14]\n",
    "θθ = θ[12:20]\n",
    "A = [ones(length(θθ))' ;  θθ' ; θθ'.^2 ]\n",
    "angle = A' \\ Eθ[12:20]"
   ]
  },
  {
   "cell_type": "code",
   "execution_count": null,
   "metadata": {
    "collapsed": false
   },
   "outputs": [],
   "source": [
    "figure(figsize=(8,4))\n",
    "subplot(121)\n",
    "plot(r, Er, \"o-\")\n",
    "plot(r, bond[1]+bond[2]*r+bond[3]*r.^2, \"r-\")\n",
    "plot([r[1],r[end]], [0.025,0.025], \"k:\")\n",
    "xlabel(\"O-H distance / A\"); ylabel(\"Energy / eV\")\n",
    "\n",
    "subplot(122)\n",
    "plot(θ*180/π, Eθ, \"o-\")\n",
    "plot(θ*180/π, angle[1]+angle[2]*θ+angle[3]*θ.^2, \"r-\")\n",
    "plot([θ[1],θ[end]]*180/π, [0.025,0.025], \"k:\")\n",
    "xlabel(\"H-O-H angle \"); ylabel(\"Energy / eV\")\n",
    "\n",
    "tight_layout()\n",
    "close(gcf())\n",
    "\n",
    "θ0 = (-angle[2]/(2*angle[3]))\n",
    "r0 = (-bond[2]/(2*bond[3]))\n",
    "println(\" \")\n",
    "print(\"Bond coeffs: \"); println(bond')\n",
    "print(\"Angle coeffs: \"); println(angle')\n",
    "println(\"θ0 = $(θ0*180/π)\")\n",
    "println(\"r0 = $r0\")"
   ]
  },
  {
   "cell_type": "code",
   "execution_count": null,
   "metadata": {
    "collapsed": false
   },
   "outputs": [],
   "source": [
    "miframe(\"http://www1.lsbu.ac.uk/water/water_models.html\")"
   ]
  },
  {
   "cell_type": "markdown",
   "metadata": {},
   "source": [
    "## Create a quadratic approximation energy model\n"
   ]
  },
  {
   "cell_type": "code",
   "execution_count": null,
   "metadata": {
    "collapsed": false
   },
   "outputs": [],
   "source": [
    "function h2o_quad(p)\n",
    "    bond = [24.1648  -50.3605    26.2387   ]     # coefficients for bond A angstroms\n",
    "    angle = [7.207    -0.137997   0.000660598]   # coefficient for angle in degrees\n",
    "    \n",
    "    r12 = norm(p[4:6]-p[1:3])\n",
    "    r13 = norm(p[7:9]-p[1:3])\n",
    "    θ = acos(sum((p[4:6]-p[1:3]).*(p[7:9]-p[1:3]))/(r12*r13))/π*180.0\n",
    "    E = bond[1]+bond[2]*r12+bond[3]*r12*r12 + bond[1]+bond[2]*r13+bond[3]*r13*r13+\n",
    "        angle[1]+angle[2]*θ+angle[3]*θ*θ\n",
    "end\n"
   ]
  },
  {
   "cell_type": "code",
   "execution_count": null,
   "metadata": {
    "collapsed": false,
    "hideCode": false
   },
   "outputs": [],
   "source": [
    "xx,yy = grids.meshgrid(-0.45:0.02:-0.05, 0.85:0.01:1.0)\n",
    "r1 = [0.93,0.94,0.96,0.98,0.985]\n",
    "h2o_quad_energy_xxyy = zeros(size(xx)..., size(r1)...)\n",
    "h2o_ps_energy_xxyy = zeros(size(xx)..., size(r1)...)\n",
    "\n",
    "for j=1:length(r1)\n",
    "    for i=1:length(xx)\n",
    "        h2o[:set_positions]([0 0 0; r1[j] 0 0 ; xx[i] yy[i] 0])\n",
    "        h2o_quad_energy_xxyy[ind2sub(size(xx),i)...,j] = h2o_quad(vec(h2o[:get_positions]()'))\n",
    "        ps[:calc](h2o, args_str=\"energy\"); h2o_ps_energy_xxyy[ind2sub(size(xx),i)...,j] = h2o[:energy]\n",
    "    end\n",
    "end"
   ]
  },
  {
   "cell_type": "code",
   "execution_count": null,
   "metadata": {
    "collapsed": false
   },
   "outputs": [],
   "source": [
    "f = figure()\n",
    "@manipulate for j=1:size(h2o_ps_energy_xxyy,3) withfig(f) do\n",
    "        contour(xx, yy, h2o_ps_energy_xxyy[:,:,j], [0, 0.015, 0.025, 0.035, 0.05, 0.1, 0.2, 0.4, 0.8, 1.6], colors=\"k\")\n",
    "        contour(xx, yy, h2o_quad_energy_xxyy[:,:,j], [0, 0.015, 0.025, 0.035, 0.05, 0.1, 0.2, 0.4, 0.8, 1.6], colors=\"r\")\n",
    "        contour(xx, yy, h2o_ps_energy_xxyy[:,:,j], [0.025], colors=\"k\", linewidths=3) \n",
    "        contour(xx, yy, h2o_quad_energy_xxyy[:,:,j], [0.025], colors=\"r\", linewidths=3) \n",
    "        axis([-0.45, -0.05, 0.85, 1.0])\n",
    "        #axis(\"equal\")\n",
    "        title(\"H2O Potential energy surface |r1| = $(r1[j])\")\n",
    "        #legend()\n",
    "        tight_layout()\n",
    "    end\n",
    "end\n"
   ]
  },
  {
   "cell_type": "markdown",
   "metadata": {},
   "source": [
    "## Geometry optimisation\n",
    "\n",
    "Finding the configuration with the lowest energy is a standard task of molecular modelling. \n",
    "\n",
    "Julia provides the Optim package"
   ]
  },
  {
   "cell_type": "code",
   "execution_count": null,
   "metadata": {
    "collapsed": true
   },
   "outputs": [],
   "source": [
    "using Optim"
   ]
  },
  {
   "cell_type": "code",
   "execution_count": null,
   "metadata": {
    "collapsed": false
   },
   "outputs": [],
   "source": [
    "#Optim.optimize()"
   ]
  },
  {
   "cell_type": "code",
   "execution_count": null,
   "metadata": {
    "collapsed": false
   },
   "outputs": [],
   "source": [
    "res = optimize(h2o_quad, vec(h2o[:get_positions]()'), ftol=1e-8)"
   ]
  },
  {
   "cell_type": "markdown",
   "metadata": {},
   "source": [
    "#### Optimum geometry"
   ]
  },
  {
   "cell_type": "code",
   "execution_count": null,
   "metadata": {
    "collapsed": false
   },
   "outputs": [],
   "source": [
    "res.minimum"
   ]
  },
  {
   "cell_type": "code",
   "execution_count": null,
   "metadata": {
    "collapsed": false
   },
   "outputs": [],
   "source": [
    "p = reshape(res.minimum, (3,3))'"
   ]
  },
  {
   "cell_type": "code",
   "execution_count": null,
   "metadata": {
    "collapsed": false,
    "hidePrompt": false
   },
   "outputs": [],
   "source": [
    "norm(p[2,:]-p[1,:]), norm(p[3,:]-p[1,:])"
   ]
  },
  {
   "cell_type": "markdown",
   "metadata": {
    "hideCode": false,
    "hidePrompt": false
   },
   "source": [
    "## Multiple molecules\n",
    "\n",
    "Add Coulomb, dispersion (Van der Waals) attraction and Pauli repulsion terms\n",
    "\n",
    "$$\n",
    "E = \\sum_{i \\in \\mathrm{H}_2\\mathrm{O}} E_\\mathrm{quad}(i) + \\sum_{ij\\in\\mathrm{O,H}} \\frac{q_i q_j}{|r_{ij}|} + \\sum_{i,j\\in\\mathrm{O}} V_\\mathrm{LJ}(r_{ij})\n",
    "$$\n",
    "\n",
    "Dispersion attraction and Pauli repulsion are described by the Lennard-Jones potential\n",
    "$$\n",
    "V_\\mathrm{LJ} = 4 \\varepsilon \\left[ \\left(\\frac{\\sigma}{r}\\right)^{12} - \\left(\\frac{\\sigma}{r}\\right)^6 \\right]\n",
    "$$"
   ]
  },
  {
   "cell_type": "code",
   "execution_count": null,
   "metadata": {
    "collapsed": false,
    "hideCode": false,
    "hidePrompt": false
   },
   "outputs": [],
   "source": [
    "function tip3p_energy{T}(p::Vector{T})\n",
    "\n",
    "    # input vector of positions in this orderL Ox Oy Oz Hx Hy Hz Hx Hy Hz Ox Oy Oz...\n",
    "    \n",
    "    qO = -0.8340\n",
    "    qH = 0.4170\n",
    "    σ = 3.15061       # in Angstrom\n",
    "    ε = 0.6364 * 0.01 # conversion from kJ/mol to eV\n",
    "    bohr = 0.529177249 # 1 Bohr in Angstrom\n",
    "    hartree = 27.2114  # in eV\n",
    "    \n",
    "    E = 0.0\n",
    "    \n",
    "    for i=1:length(p)÷9                          # loop over oxygens (i.e. H2O monomers)\n",
    "        E += h2o_quad(p[(i-1)*9+1:(i-1)*9+9])    # monomer energy\n",
    "        for j=i+1:length(p)÷9                    # loop over other oxygens \n",
    "            O1 = (i-1)*9+1; O2 = (j-1)*9+1\n",
    "            rij = norm(p[O1:O1+2]-p[O2:O2+2])\n",
    "            E += 4.0*ε*((σ/rij)^12-(σ/rij)^6)     # LJ term\n",
    "            # Electrostatics\n",
    "            Es = 0.0\n",
    "            Es += qO*qO/rij\n",
    "            Es += qO*qH*(1/norm(p[O1:O1+2]-p[O2+3:O2+5])\n",
    "                +1/norm(p[O1:O1+2]-p[O2+6:O2+8])\n",
    "                +1/norm(p[O1+3:O1+5]-p[O2:O2+2])\n",
    "                +1/norm(p[O1+6:O1+8]-p[O2:O2+2]))\n",
    "            Es += qH*qH*(1/norm(p[O1+3:O1+5]-p[O2+3:O2+5])\n",
    "                +1/norm(p[O1+3:O1+5]-p[O2+6:O2+8])\n",
    "                +1/norm(p[O1+6:O1+8]-p[O2+3:O2+5])\n",
    "                +1/norm(p[O1+6:O1+8]-p[O2+6:O2+8]))  \n",
    "            E += Es*hartree*bohr\n",
    "        end\n",
    "    end\n",
    "    E\n",
    "end"
   ]
  },
  {
   "cell_type": "markdown",
   "metadata": {},
   "source": [
    "## Water dimer"
   ]
  },
  {
   "cell_type": "code",
   "execution_count": null,
   "metadata": {
    "collapsed": false
   },
   "outputs": [],
   "source": [
    "h4o2 = quippy.Atoms(n=6, lattice=[10 0 0 ; 0 10 0 ; 0 0 10], numbers=repeat([8,1,1],outer=[2]),\n",
    "                    positions=[ h2o_p0 ;  h2o_p0 +  repeat([3.0 0 0], outer=[3,1])]);\n",
    "imolecule_draw(h4o2)"
   ]
  },
  {
   "cell_type": "markdown",
   "metadata": {},
   "source": [
    "### Obtaining gradients\n",
    "\n",
    "Many algorithms, including most geometry optimisation methods and molecular dynamics require the gradient of the potential. Notable exceptions:\n",
    "\n",
    "* Nelder Mead and other gradient-free optimisation methods (but its much less efficient than ones based on gradients)\n",
    "* Monte Carlo simulations (although very efficient moves can be generated by including gradient information) \n",
    "\n",
    "Options for computing the gradient of a function of _N_ variables: \n",
    "\n",
    "* Finite difference (e.g. Ridder's method), cost: O(_N_), optimum balance of roundoff error and truncation error \n",
    "* Hand code the gradient function, cost: O(1), but time consuming and prone to bugs\n",
    "* _Automatic differentiation_: Julia is a language with full introspection, and has several such packages. "
   ]
  },
  {
   "cell_type": "code",
   "execution_count": null,
   "metadata": {
    "collapsed": false
   },
   "outputs": [],
   "source": [
    "tip3p_grad = ForwardDiff.gradient(tip3p)"
   ]
  },
  {
   "cell_type": "code",
   "execution_count": null,
   "metadata": {
    "collapsed": false
   },
   "outputs": [],
   "source": [
    "h4o2[:rattle](0.1)\n",
    "res = optimize(tip3p.potential, (p,s)->s[:] = tip3p.gradient(p), vec(h4o2[:get_positions]()'), ftol=1e-4, grtol=1e-2)"
   ]
  },
  {
   "cell_type": "code",
   "execution_count": null,
   "metadata": {
    "collapsed": false,
    "scrolled": true
   },
   "outputs": [],
   "source": [
    "h4o2[:set_positions](reshape(res.minimum, (3,6))')\n",
    "imolecule_draw(h4o2)"
   ]
  },
  {
   "cell_type": "markdown",
   "metadata": {},
   "source": [
    "### Dissociation curve"
   ]
  },
  {
   "cell_type": "code",
   "execution_count": null,
   "metadata": {
    "collapsed": false
   },
   "outputs": [],
   "source": [
    "r = 2.3:0.05:8.0\n",
    "p0 = h4o2[:get_positions]()\n",
    "p = copy(p0)\n",
    "dOO = p0[4,:]- p0[1,:] \n",
    "Edim_tip3p = zeros(r)\n",
    "Edim_fx = zeros(r)\n",
    "for i=1:length(r)\n",
    "    p[4:6,:] = p0[4:6,:] + repeat((r[i]/norm(dOO)-1.0)*dOO, outer=[3,1])\n",
    "    Edim_tip3p[i] = tip3p.potential(vec(p'))\n",
    "    h4o2[:set_positions](p); fx[:calc](h4o2, args_str=\"energy\"); Edim_fx[i] = h4o2[:energy]\n",
    "end"
   ]
  },
  {
   "cell_type": "code",
   "execution_count": null,
   "metadata": {
    "collapsed": false
   },
   "outputs": [],
   "source": [
    "figure()\n",
    "plot(r, Edim_tip3p, \"b-\", label=\"TIP3P\")\n",
    "plot(r, Edim_fx, \"g-\", label=\"FX\")\n",
    "grid()\n",
    "legend()\n",
    "xlabel(L\"r_\\mathrm{OO} / \\AA\"); ylabel(\"Energy / eV\")\n",
    "close(gcf())"
   ]
  },
  {
   "cell_type": "markdown",
   "metadata": {},
   "source": [
    "### Interaction of water molecules: TTM3F polarisable force field by Fanourgakis and Xantheas\n",
    "\n",
    "George S. Fanourgakis and Sotiris S. Xantheas, Journal of Chemical Physics __128__, 074506 (2008)\n",
    "\n",
    "_Development of transferable interaction potentials for water. V. Extension of the flexible, polarizable, Thole-type model potential (TTM3-F, v. 3.0) to describe the vibrational spectra of water clusters and liquid water_\n"
   ]
  },
  {
   "cell_type": "code",
   "execution_count": null,
   "metadata": {
    "collapsed": false
   },
   "outputs": [],
   "source": [
    "fx = quippy.Potential(\"IP FX force_using_fd=T virial_using_fd=T\", param_filename=\"quip_params.xml\");"
   ]
  },
  {
   "cell_type": "markdown",
   "metadata": {},
   "source": [
    "## Create a water hexamer"
   ]
  },
  {
   "cell_type": "code",
   "execution_count": null,
   "metadata": {
    "collapsed": false,
    "hideCode": false,
    "scrolled": true
   },
   "outputs": [],
   "source": [
    "h12o6 = make_h12o6()\n",
    "imolecule_draw(h12o6)"
   ]
  },
  {
   "cell_type": "markdown",
   "metadata": {},
   "source": [
    "### Optimise its geometry"
   ]
  },
  {
   "cell_type": "code",
   "execution_count": null,
   "metadata": {
    "collapsed": false
   },
   "outputs": [],
   "source": [
    "h12o6[:rattle](0.1)\n",
    "res = optimize(tip3p.potential, (p,s)->s[:]=tip3p.gradient(p), vec(h12o6[:get_positions]()'),\n",
    "        ftol=1e-4, grtol=1e-4)"
   ]
  },
  {
   "cell_type": "code",
   "execution_count": null,
   "metadata": {
    "collapsed": false
   },
   "outputs": [],
   "source": [
    "h12o6[:set_positions](reshape(res.minimum, (3,18))')\n",
    "imolecule_draw(h12o6)"
   ]
  },
  {
   "cell_type": "markdown",
   "metadata": {},
   "source": [
    "### Geometry optimisation via QUIP"
   ]
  },
  {
   "cell_type": "code",
   "execution_count": null,
   "metadata": {
    "collapsed": false
   },
   "outputs": [],
   "source": [
    "fx[:minim](h12o6, \"cg\", 1e-1, 12, do_pos=true, do_lat=false)\n",
    "imolecule_draw(h12o6)"
   ]
  },
  {
   "cell_type": "markdown",
   "metadata": {},
   "source": [
    "### Geometry optimisation via ASE: preconditioning"
   ]
  },
  {
   "cell_type": "code",
   "execution_count": null,
   "metadata": {
    "collapsed": false
   },
   "outputs": [],
   "source": [
    "# ASE preconditioned minimiser\n",
    "h12o6[:rattle](0.05)\n",
    "h12o6[:set_calculator](fx)\n",
    "#ucf = ase_const.UnitCellFilter(h12o6, [false,false,false,false,false,false])\n",
    "minimiser = ase_precon.LBFGS(h12o6, precon=ase_precon.Exp(A=3.0))\n",
    "minimiser[:run](fmax=1e-1)\n",
    "imolecule_draw(h12o6)"
   ]
  },
  {
   "cell_type": "markdown",
   "metadata": {},
   "source": [
    "## Random Search"
   ]
  },
  {
   "cell_type": "code",
   "execution_count": null,
   "metadata": {
    "collapsed": false
   },
   "outputs": [],
   "source": [
    "\n",
    "function random_h12o6()\n",
    "    random_hex = make_h2o() # start with a single H2O\n",
    "    for i=1:5               # add 5 more\n",
    "        h2o = quippy.Atoms(n=3)\n",
    "        reject = true\n",
    "        while reject        # try to place each one NOT on top of another\n",
    "            h2o = make_h2o()\n",
    "            h2o[:rotate](quippy.random_unit_vector(), rand()*π)\n",
    "            h2o[:set_positions](h2o[:get_positions]()+repeat(quippy.random_unit_vector()'*2.5, outer=[3,1]))\n",
    "            reject = false\n",
    "            for j=1:i       # check for Oxygens being too close\n",
    "                if norm(h2o[:get_positions]()[1,:] - random_hex[:get_positions]()[(j-1)*3+1,:]) < 2.5\n",
    "                    reject = true\n",
    "                    break\n",
    "                end\n",
    "            end\n",
    "        end  \n",
    "        random_hex[:add_atoms](h2o)\n",
    "    end\n",
    "    return random_hex\n",
    "end"
   ]
  },
  {
   "cell_type": "code",
   "execution_count": null,
   "metadata": {
    "collapsed": false
   },
   "outputs": [],
   "source": [
    "init = []\n",
    "list = []\n",
    "for i=1:50\n",
    "    hex = random_h12o6()\n",
    "    append!(init, [hex[:copy]()])\n",
    "    res = optimize(tip3p.potential, (p,s)->s[:]=tip3p.gradient(p), vec(hex[:get_positions]()'),\n",
    "                ftol=1e-2, grtol=1e-2)\n",
    "    hex[:set_positions](reshape(res.minimum, (3,18))')\n",
    "    append!(list, [hex])\n",
    "    println(\"Random hexamer $i\")\n",
    "end"
   ]
  },
  {
   "cell_type": "code",
   "execution_count": null,
   "metadata": {
    "collapsed": false
   },
   "outputs": [],
   "source": [
    "list2=copy(list)\n",
    "imolecule_draw(list2[5])\n"
   ]
  },
  {
   "cell_type": "code",
   "execution_count": null,
   "metadata": {
    "collapsed": false
   },
   "outputs": [],
   "source": [
    "function compute_h12o6_Rg(x)\n",
    "    rO = reshape(x, (3,18))[:,1:3:18] # get Oxygen positions\n",
    "    mr = mean(rO, 2)                  # compute the center of mass\n",
    "    sqrt(mean(sum((rO-repeat(mr, inner=[1,6])).^2,1)))\n",
    "end"
   ]
  },
  {
   "cell_type": "code",
   "execution_count": null,
   "metadata": {
    "collapsed": false
   },
   "outputs": [],
   "source": [
    "E = []; Rg = []\n",
    "outfile = quippy.CInOutput(\"hexamers_random_search.xyz\", quippy.OUTPUT)\n",
    "for hex in list\n",
    "    x = vec(hex[:get_positions]()')\n",
    "    append!(Rg, [compute_h12o6_Rg(x)])\n",
    "    append!(E, [tip3p.potential(x)])\n",
    "    outfile[:write](hex)\n",
    "end \n",
    "outfile[:close]()"
   ]
  },
  {
   "cell_type": "code",
   "execution_count": null,
   "metadata": {
    "collapsed": false
   },
   "outputs": [],
   "source": [
    "figure()\n",
    "plot(Rg, E, \"x\")\n",
    "xlabel(\"Radius of gyration\"); ylabel(\"Energy\"); title(\"Optimized random water hexamers\")\n",
    "close(gcf())"
   ]
  },
  {
   "cell_type": "markdown",
   "metadata": {},
   "source": [
    "## MD via QUIP"
   ]
  },
  {
   "cell_type": "code",
   "execution_count": null,
   "metadata": {
    "collapsed": false
   },
   "outputs": [],
   "source": [
    "\n",
    "@pyimport quippy._dynamicalsystem as quippy_ds\n",
    "outfile = quippy.CInOutput(\"traj.xyz\", quippy.OUTPUT)\n",
    "ds = quippy.DynamicalSystem(h12o6)\n",
    "ds[:add_thermostat](quippy.THERMOSTAT_LANGEVIN, 300.0, tau=10.0)\n",
    "@time traj = ds[:run](fx, dt=1.0, n_steps=5, summary_interval=0, save_interval=0, trajectory=outfile, write_interval=1)\n",
    "outfile[:close]()"
   ]
  },
  {
   "cell_type": "code",
   "execution_count": null,
   "metadata": {
    "collapsed": true
   },
   "outputs": [],
   "source": []
  }
 ],
 "metadata": {
  "celltoolbar": "Hide code",
  "kernelspec": {
   "display_name": "Julia 0.4.3",
   "language": "julia",
   "name": "julia-0.4"
  },
  "language_info": {
   "file_extension": ".jl",
   "mimetype": "application/julia",
   "name": "julia",
   "version": "0.4.3"
  }
 },
 "nbformat": 4,
 "nbformat_minor": 0
}
