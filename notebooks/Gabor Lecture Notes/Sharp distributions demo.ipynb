{
 "cells": [
  {
   "cell_type": "markdown",
   "metadata": {},
   "source": [
    "sharp distributions demo\n",
    "===="
   ]
  },
  {
   "cell_type": "code",
   "execution_count": null,
   "metadata": {
    "collapsed": false
   },
   "outputs": [],
   "source": [
    "G2 = (x -> exp(-sumabs2(x)/2/0.3^2)/0.3/sqrt(2*pi)+exp(-sumabs2(x)/2/0.02^2)/0.02/sqrt(2*pi))"
   ]
  },
  {
   "cell_type": "code",
   "execution_count": null,
   "metadata": {
    "collapsed": false
   },
   "outputs": [],
   "source": [
    "pygui(false)\n",
    "x = -1:0.01:1\n",
    "\n",
    "figure()\n",
    "plot(x, map(G2,x), \"-\")\n",
    "legend([L\"P(x) = \\frac{1}{\\sigma_1\\sqrt{2\\pi}}e^{-x^2/2\\sigma_1}+\\frac{1}{\\sigma_2\\sqrt{2\\pi}}e^{-x^2/2\\sigma_2}\"])\n",
    "close(gcf())\n",
    "\n",
    "figure()\n",
    "plot(x, -log(map(G2,x)), \"-\")\n",
    "legend([\"-log(P)\"])\n",
    "close(gcf())\n",
    "\n",
    "figure()\n",
    "semilogx(x, map(G2,x), \"-\", label=\"P(log(x))\")\n",
    "semilogx(exp(-4:0.5:0), map(G2, exp(-4:0.5:0)), \"r.\")\n",
    "axis([1e-2,1,-0.1,20])\n",
    "legend()\n",
    "close(gcf())\n"
   ]
  },
  {
   "cell_type": "markdown",
   "metadata": {},
   "source": [
    "### PI estimate"
   ]
  },
  {
   "cell_type": "code",
   "execution_count": null,
   "metadata": {
    "collapsed": false
   },
   "outputs": [],
   "source": [
    "pygui(true)\n",
    "figure()"
   ]
  },
  {
   "cell_type": "code",
   "execution_count": null,
   "metadata": {
    "collapsed": true
   },
   "outputs": [],
   "source": [
    "clf()"
   ]
  },
  {
   "cell_type": "code",
   "execution_count": null,
   "metadata": {
    "collapsed": false
   },
   "outputs": [],
   "source": [
    "plot([-1,1,1,-1,-1], [-1,-1,1,1,-1], \"k-\")\n",
    "plot(-1:0.01:1, sqrt(1-(-1:0.01:1).^2), \"b-\")\n",
    "plot(-1:0.01:1, -sqrt(1-(-1:0.01:1).^2), \"b-\")\n",
    "\n",
    "axis(\"equal\")\n",
    ";"
   ]
  },
  {
   "cell_type": "code",
   "execution_count": null,
   "metadata": {
    "collapsed": false
   },
   "outputs": [],
   "source": [
    "rx = rand(100)*2-1; ry = rand(100)*2-1\n",
    "plot(rx, ry, \"r.\")\n",
    ";"
   ]
  },
  {
   "cell_type": "code",
   "execution_count": null,
   "metadata": {
    "collapsed": false
   },
   "outputs": [],
   "source": [
    "clf()\n",
    "rx = rand(10000)*2-1; ry = rand(10000)*2-1\n",
    "n = 1:10:length(rx)\n",
    "a = zeros(length(n))\n",
    "for i=1:length(n)\n",
    "    a[i] = length(find(rx[1:n[i]].^2+ry[1:n[i]].^2 .< 1))/n[i]*4\n",
    "end\n",
    "\n",
    "plot(n,a, label=\"π estimate\")\n",
    "plot([1,n[end]], [pi, pi], label=\"π\")\n",
    "legend()\n",
    ";\n"
   ]
  },
  {
   "cell_type": "markdown",
   "metadata": {},
   "source": [
    "### Gaussian contours"
   ]
  },
  {
   "cell_type": "code",
   "execution_count": null,
   "metadata": {
    "collapsed": false
   },
   "outputs": [],
   "source": [
    "using grids\n",
    "clf()\n",
    "\n",
    "x,y = grids.meshgrid(-1:0.01:1, -1:0.01:1)\n",
    "\n",
    "\n",
    "contour(x, y, map(G2,map( (x,y)->[x,y], x, y)), exp(-3:0.5:4))\n",
    "plot([-1,1,1,-1,-1], [-1,-1,1,1,-1], \"k-\")\n",
    "\n",
    "axis(\"equal\")\n"
   ]
  },
  {
   "cell_type": "code",
   "execution_count": null,
   "metadata": {
    "collapsed": true
   },
   "outputs": [],
   "source": [
    "rx = rand(100)*2-1; ry = rand(100)*2-1\n",
    "plot(rx, ry, \"r.\")\n",
    ";"
   ]
  },
  {
   "cell_type": "code",
   "execution_count": null,
   "metadata": {
    "collapsed": false
   },
   "outputs": [],
   "source": [
    "p = map(G2, map((x,y)->[x,y], rx, ry))\n",
    "i = sortperm(p)\n",
    "m = i[50]"
   ]
  },
  {
   "cell_type": "code",
   "execution_count": null,
   "metadata": {
    "collapsed": false
   },
   "outputs": [],
   "source": [
    "rx[m], ry[m], p[m]"
   ]
  },
  {
   "cell_type": "code",
   "execution_count": null,
   "metadata": {
    "collapsed": false
   },
   "outputs": [],
   "source": [
    "plot([rx[m]], [ry[m]], \"ko\");"
   ]
  },
  {
   "cell_type": "code",
   "execution_count": null,
   "metadata": {
    "collapsed": false
   },
   "outputs": [],
   "source": [
    "r = sqrt(rx[m]^2+ry[m]^2)\n",
    "plot(-r:0.01:r, sqrt(r^2-(-r:0.01:r).^2), \"k-\")\n",
    "plot(-r:0.01:r, -sqrt(r^2-(-r:0.01:r).^2), \"k-\")\n",
    ";"
   ]
  },
  {
   "cell_type": "code",
   "execution_count": null,
   "metadata": {
    "collapsed": true
   },
   "outputs": [],
   "source": []
  }
 ],
 "metadata": {
  "kernelspec": {
   "display_name": "Julia 0.4.3",
   "language": "julia",
   "name": "julia-0.4"
  },
  "language_info": {
   "file_extension": ".jl",
   "mimetype": "application/julia",
   "name": "julia",
   "version": "0.4.3"
  }
 },
 "nbformat": 4,
 "nbformat_minor": 0
}
