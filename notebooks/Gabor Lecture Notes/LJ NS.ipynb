{
 "cells": [
  {
   "cell_type": "code",
   "execution_count": null,
   "metadata": {
    "collapsed": false
   },
   "outputs": [],
   "source": [
    "pygui(false)\n",
    "PyPlot.svg(true)\n",
    "\n",
    "import pbc\n",
    "import lj\n",
    "import ns"
   ]
  },
  {
   "cell_type": "markdown",
   "metadata": {},
   "source": [
    "NS Simulation\n",
    "==========="
   ]
  },
  {
   "cell_type": "code",
   "execution_count": null,
   "metadata": {
    "collapsed": false
   },
   "outputs": [],
   "source": [
    "dim = 2;\n",
    "Nat = 7;\n",
    "Nw = 10;\n",
    "Nsteps = 8;\n",
    "Niter = Nw*32;\n",
    "\n",
    "#lj.set_shiftedLJ();\n",
    "pbc.set_density(Nat, 0.00925925);"
   ]
  },
  {
   "cell_type": "code",
   "execution_count": null,
   "metadata": {
    "collapsed": false
   },
   "outputs": [],
   "source": [
    "#Profile.clear()\n",
    "#@profile\n",
    "\n",
    "xs = zeros(dim, Nat, Nw)\n",
    "xhist = zeros(Niter, dim*Nat)\n",
    "\n",
    "E = zeros(Niter, 1)\n",
    "for Nat=7:7\n",
    "    pbc.set_density(Nat, 0.00925925);\n",
    "    (xhist, E[:,Nat-6], xs, accept_ratio_history, stepsize_history) = ns.nestedsampling(lj, dim, Nat, Nw, Niter, Nsteps; seed=1, extrawalks=false, walksource=false)\n",
    "end\n",
    "#using ProfileView\n",
    "#ProfileView.view()"
   ]
  },
  {
   "cell_type": "markdown",
   "metadata": {},
   "source": [
    "configuration plots\n",
    "===================="
   ]
  },
  {
   "cell_type": "code",
   "execution_count": null,
   "metadata": {
    "collapsed": false,
    "slideshow": {
     "slide_type": "-"
    }
   },
   "outputs": [],
   "source": [
    "import pbc.L\n",
    "\n",
    "function plot_configs(configs)\n",
    "    \n",
    "    b = 5;\n",
    "    if L != 0.0\n",
    "        bshift = L*1.1;\n",
    "    else\n",
    "        bshift = b;\n",
    "    end\n",
    "\n",
    "    figure()\n",
    "    i=0\n",
    "    for c in configs\n",
    "        i=i+1\n",
    "        y0 = -div(i-1,b)*bshift; \n",
    "        x0 = mod(i-1,b)*bshift;\n",
    "    \n",
    "        if L != 0.0\n",
    "            x = c; \n",
    "            x[1,:] -= x[1,1];\n",
    "            x[2,:] -= x[2,1];\n",
    "            pbc.map_into_cell!(x);\n",
    "            plot(x[1,:]+x0, x[2,:]+y0, \".\")\n",
    "            plot([x0-0.5*L, x0-0.5*L, x0+0.5*L, x0+0.5*L, x0-0.5*L], [y0-0.5*L, y0+0.5*L, y0+0.5*L, y0-0.5*L, y0-0.5*L], \"k-\");\n",
    "        else\n",
    "            plot(c[1,:]+x0, c[2,:]+y0, \".\")\n",
    "            plot(x0, y0, \"ko\", markerfacecolor=\"none\");\n",
    "        end\n",
    "    end\n",
    "    axis(\"scaled\"); axis(\"off\");\n",
    "    tight_layout()\n",
    "    close(gcf())\n",
    "end"
   ]
  },
  {
   "cell_type": "code",
   "execution_count": null,
   "metadata": {
    "collapsed": false
   },
   "outputs": [],
   "source": [
    "configs = Any[]\n",
    "for i=1:20:Niter\n",
    "    push!(configs, reshape(xhist[i,:], (dim,Nat)))\n",
    "end\n",
    "plot_configs(configs)"
   ]
  },
  {
   "cell_type": "code",
   "execution_count": null,
   "metadata": {
    "collapsed": false
   },
   "outputs": [],
   "source": [
    "configs = Any[]\n",
    "for i = 1:size(xs,3)\n",
    "    push!(configs, xs[:,:,i])\n",
    "end\n",
    "plot_configs(configs)"
   ]
  },
  {
   "cell_type": "markdown",
   "metadata": {},
   "source": [
    "Thermodynamics plots\n",
    "=============="
   ]
  },
  {
   "cell_type": "code",
   "execution_count": null,
   "metadata": {
    "collapsed": false
   },
   "outputs": [],
   "source": [
    "\n",
    "figure();\n",
    "T=[0.005:0.001:0.2];\n",
    "\n",
    "\n",
    "(Z,U,Cv) = ns.thermo(T, E, Nat, Nw);\n",
    "plot(4*T, Cv/Nat, \"b\", label=\"LJ $Nat\");\n",
    "\n",
    "plot([minimum(4*T), maximum(4*T)], [1.5, 1.501], \"k:\")\n",
    "\n",
    "xlabel(\"T\"); ylabel(L\"C_v\");\n",
    "legend();\n",
    "close(gcf())"
   ]
  },
  {
   "cell_type": "code",
   "execution_count": null,
   "metadata": {
    "collapsed": true
   },
   "outputs": [],
   "source": []
  }
 ],
 "metadata": {
  "kernelspec": {
   "display_name": "Julia 0.3.8",
   "language": "julia",
   "name": "julia-0.3"
  },
  "language_info": {
   "name": "julia",
   "version": "0.3.8"
  }
 },
 "nbformat": 4,
 "nbformat_minor": 0
}
