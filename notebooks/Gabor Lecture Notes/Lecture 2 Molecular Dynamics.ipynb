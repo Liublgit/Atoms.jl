{
 "cells": [
  {
   "cell_type": "code",
   "execution_count": null,
   "metadata": {
    "collapsed": false
   },
   "outputs": [],
   "source": [
    "include(\"mdlecturesrc.jl\")"
   ]
  },
  {
   "cell_type": "markdown",
   "metadata": {},
   "source": [
    "# Lecture 2: Molecular Dynamics\n",
    "\n",
    "* Newton's Law from the Schrodinger equation\n",
    "* Integration, Discretisation\n",
    "* Langevin dynamics\n",
    "* Hydrogen bond in the water dimer\n",
    "* Statistical errors on observables\n",
    "* Thermal expansion of the water hexamer"
   ]
  },
  {
   "cell_type": "markdown",
   "metadata": {},
   "source": [
    "## Modeling the world\n",
    "\n",
    "As far as we know, the world works according to the Schrödinger equation:\n",
    "\n",
    "$$\n",
    "-i\\hbar \\frac{\\partial \\Psi}{\\partial t} = \\mathcal{H} \\Psi\n",
    "$$\n",
    "\n",
    "where $\\Psi$ is a _wave function_ (or probability amplitude),\n",
    "\n",
    "$$\n",
    "\\Psi \\equiv \\Psi(x_1, x_2, x_3, \\ldots)\\qquad x_i \\in \\mathrm{R}^3\n",
    "$$\n",
    "\n",
    "Take the particles to be electrons and atomic nuclei, then the Hamiltonian $\\mathcal{H}$ is\n",
    "\n",
    "$$\n",
    "\\mathcal{H} = \\sum_i \\frac{1}{2m_i} \\nabla^2_{x_i} + \\sum_{ij} \\frac{Z_i Z_j}{\\left|x_i-x_j\\right|}\n",
    "$$\n",
    "\n",
    "* The first term gives matter is \"wavelike\" character, the particles' tendency to spread is inversely proportional to their mass\n",
    "* The second term is the Coulomb interaction of charges. It is easily observable macroscopically!\n",
    "* (There is also spin, which is omitted from above for simplicity... wave function is a really a 4-vector ... see Dirac theory)\n",
    "* Limitation: particles stay the same (below some energy limit, they do!)\n",
    "* Thus far not contradicted by any experiment\n",
    "\n",
    "In addition, for Fermions (e.g. electrons), the wave function is _antisymmetric_,\n",
    "\n",
    "$$\n",
    "\\Psi(\\ldots, x_i, \\ldots, x_j, \\ldots) = - \\Psi(\\ldots, x_j, \\ldots, x_i, \\ldots) \n",
    "$$\n"
   ]
  },
  {
   "cell_type": "markdown",
   "metadata": {},
   "source": [
    "## Hierarchy of approximations\n",
    "\n",
    "Formal solution of the wave equation is\n",
    "\n",
    "$$\n",
    "\\Psi(t) = e^{i \\mathcal{H} t /\\hbar} \\Psi_0\n",
    "$$\n",
    "\n",
    "So eigenvectors of $\\mathcal{H}$ are stationary states of an isolated system.\n",
    "* For a system that interacts with the environment at temperature $T$, the probability of occupying an eigen(energy)-level with energy $E_i$ follows the Boltzmann distribution,\n",
    "$$\n",
    "\\\\\n",
    "P(\\Psi_i) \\propto e^{-E_i/kT}\n",
    "\\\\\n",
    "$$\n",
    "* Room temperature is _small_, $kT \\approx 0.025~\\mathrm{eV}$. Typical electronic transitions are on the order of $1~ \\mathrm{eV}$, e.g. for visible light $\\hbar c/\\lambda \\approx 2~\\mathrm{eV}$"
   ]
  },
  {
   "cell_type": "code",
   "execution_count": null,
   "metadata": {
    "collapsed": false
   },
   "outputs": [],
   "source": [
    "using Physical\n",
    "\n",
    "h_planck*c_light/(500*(Nano*Meter))/ElectronVolt"
   ]
  },
  {
   "cell_type": "markdown",
   "metadata": {},
   "source": [
    "* Mass scale of electrons and protons are very different: $ 1~\\mathrm{p} \\approx 1836~\\mathrm{e}$, so electrons are _fast_.\n",
    "\n",
    "* The Born-Oppenheimer approximation separates the eletronic motion (coordinates: $r$) from nuclear motion (coordinates: $R$)\n",
    "\n",
    "\n",
    "#### The electronic problem\n",
    "\n",
    "Nuclei fixed at positions $R_j$, consider electronic wave function $\\Psi_\\mathrm{el}(r_1,r_2,\\ldots)$ with Hamiltonian (units: $\\hbar = m_\\mathrm{e} = e = 1$)\n",
    "\n",
    "$$\n",
    "\\mathcal{H}_\\mathrm{el} = \\frac{1}{2} \\sum_i \\nabla^2_{r_i} + \\sum_{ij} \\frac{(-1)Z_j}{\\left|R_j-r_i\\right|} + \\sum_{i i'} \\frac{1}{\\left|r_i-r_{i'}\\right|}\n",
    "$$\n",
    "\n",
    "Typically we are interested in the situation in which electrons are relaxed into their ground state, the lowest eigenstate whose eigenvalue we identify with electronic potential energy $V_\\mathrm{el}(R_1,R_2,\\ldots) \\equiv E_0$ \n",
    "\n",
    "#### The nuclear problem\n",
    "\n",
    "Here the wave function is of the nuclear coordinates, $\\Psi(R_1,R_2,\\ldots)$ with Hamiltonian\n",
    "\n",
    "$$\n",
    "\\mathcal{H}_\\mathrm{el} = \\sum_j \\frac{1}{2m_j} \\nabla^2_{R_j} + \\sum_{jj'} \\frac{Z_j Z_{j'}}{\\left|R_j-R_{j'}\\right|} + V_\\mathrm{el}(R_1,R_2,\\ldots)\n",
    "$$\n",
    "\n",
    "* At ambient conditions, the nuclear wave functions do not spread very much, do not overlap, and a separable solution is rather accurate (except for low mass hydrogen...)\n",
    "\n",
    "$$\n",
    "\\Psi(R_1,R_2,\\ldots) \\approx \\Psi(R_1)\\Psi(R_2)\\Psi(R_3)\\ldots\n",
    "$$\n",
    "\n",
    "* The quantum system is reduced to a classical system via the _correspondence principle_\n",
    "\n",
    "$$\n",
    "\\begin{eqnarray}\n",
    "p_j &=& \\langle \\Psi | \\nabla_{R_j} | \\Psi\\rangle \\\\\n",
    "q_j &=& \\langle \\Psi | R_j | \\Psi\\rangle \\\\\n",
    "H &=&  \\langle \\Psi | \\mathcal{H}| \\Psi\\rangle \n",
    "\\end{eqnarray}\n",
    "$$\n",
    "\n",
    "So the classical Hamiltonian is\n",
    "\n",
    "$$\n",
    "H = \\sum_j \\frac{p_j^2}{2m_j} + \\underbrace{\\sum_{jj'} \\frac{Z_j Z_{j'}}{\\left|q_j-q_{j'}\\right|} + V_\\mathrm{el}(q_1,q_2,\\ldots)}_{\\textrm{\"interatomic potential\": } V(q_1,q_2,\\ldots)}\n",
    "$$\n",
    "\n",
    "Leading to the equations of motion, i.e. Newton's law, \n",
    "\n",
    "$$\n",
    "\\begin{eqnarray}\n",
    "\\dot q_j &=& \\partial H/\\partial p_j \\qquad & \\left(= p_j / m_j\\right)\\\\\n",
    "\\dot p_j &=& -\\partial H/\\partial q_j \\qquad & \\left(= -\\partial V/\\partial q_j = F_j = m_j \\ddot q_j \\right)\\\\\n",
    "\\end{eqnarray}\n",
    "$$"
   ]
  },
  {
   "cell_type": "markdown",
   "metadata": {},
   "source": [
    "## Discretise, Integrate\n",
    "\n",
    "We want to numerically integrate the equations of motion forward in time from a given starting point. Truncating the Taylor expansion,\n",
    "\n",
    "$$\n",
    "\\begin{eqnarray}\n",
    "q(t+h) &=& q(t) + h \\left.\\frac{d q}{d t}\\right|_t + O(h^2)\\\\\n",
    "p(t+h) &=& p(t) + h \\left.\\frac{d p}{d t}\\right|_t + O(h^2)\\\\\n",
    "\\end{eqnarray}\n",
    "$$\n",
    "\n",
    "Leads to Euler's method,\n",
    "\n",
    "$$\n",
    "\\begin{eqnarray}\n",
    "q(t+h) &=& q(t) +  h p(t)/m\\\\\n",
    "p(t+h) &=& p(t) +  h F(q(t))\\\\\n",
    "\\end{eqnarray}\n",
    "$$"
   ]
  },
  {
   "cell_type": "code",
   "execution_count": null,
   "metadata": {
    "collapsed": false
   },
   "outputs": [],
   "source": [
    "Euler = ( (q,p,F,h) -> ( q+h*p, p+h*F(q) )  ) ;"
   ]
  },
  {
   "cell_type": "markdown",
   "metadata": {},
   "source": [
    "### Try it on the simple harmonic oscillator\n",
    "\n",
    "The potential is $V(q) = q^2$, with exact solution (starting from $q(0) = 0$),\n",
    "\n",
    "$$\n",
    "\\begin{eqnarray}\n",
    "q(t) &=& p(0) \\sin(t)\\\\\n",
    "p(t) &=& p(0) \\cos(t)\\\\\n",
    "\\end{eqnarray}\n",
    "$$"
   ]
  },
  {
   "cell_type": "code",
   "execution_count": null,
   "metadata": {
    "collapsed": false
   },
   "outputs": [],
   "source": [
    "sho_V = (q-> q^2/2) # the potential function\n",
    "sho_F = (q-> -q)    # the force function\n",
    "p0 = 0.1\n",
    "kT = 0.01\n",
    "\n",
    "f = figure()\n",
    "@manipulate for h in [0.01,0.1,0.5,1.0,2.0],\n",
    "                show=Dict(:Trajectory => 1, :Phasespace => 2, :Energy => 3),\n",
    "                integrator=Dict(:velocityVerletLangevin => velocityVerletLangevin,\n",
    "                                :velocityVerlet => velocityVerlet,\n",
    "                                :Verlet => Verlet,\n",
    "                                :Euler => Euler\n",
    "                                ),\n",
    "                 γ in [0.01, 0.1, 0.5, 1] withfig(f) do \n",
    "\n",
    "        \n",
    "        \n",
    "        \n",
    "        t = 0:h:1000; q = zeros(t); p = zeros(t); p[1] = p0; Fold = sho_F(q[1])\n",
    "\n",
    "        for i=2:length(t)\n",
    "            if integrator === Euler\n",
    "\n",
    "                q[i],p[i] = Euler(q[i-1],p[i-1], sho_F, h)\n",
    "              \n",
    "                \n",
    "    \n",
    "                \n",
    "                \n",
    "                \n",
    "                \n",
    "            elseif integrator === Verlet\n",
    "                if i==2\n",
    "                    q[i],p[i] = Euler(q[i-1], p0, sho_F, h)\n",
    "                else\n",
    "                    q[i] = Verlet(q[i-1], q[i-2], sho_F, h)\n",
    "                    p[i-1] = (q[i]-q[i-2])/(2*h)\n",
    "                end\n",
    "            elseif integrator === velocityVerlet\n",
    "                q[i], p[i], Fold = velocityVerlet(q[i-1], p[i-1], Fold, sho_F, h)\n",
    "            elseif integrator === velocityVerletLangevin\n",
    "                q[i], p[i], Fold = velocityVerletLangevin(q[i-1], p[i-1], Fold, sho_F, h, kT, γ)\n",
    "            end\n",
    "        end\n",
    "        \n",
    "        r = 1:length(find(t .< 20))\n",
    "        if show==1\n",
    "            plot(t[r], q[r], \"o-\", markersize=2)\n",
    "            plot(t[r], p0*sin(t[r]), \"r.\", markersize= (h <0.5 ? 1 : 5))\n",
    "            xlabel(\"t\"); ylabel(\"q\")\n",
    "        elseif show==2\n",
    "            marker = \"o-\"\n",
    "            rr = r\n",
    "            if integrator === velocityVerletLangevin\n",
    "                r = 1:length(find(t .< 100))\n",
    "                marker = \".\"\n",
    "            end\n",
    "            plot(q[r], p[r], marker, markersize=2)\n",
    "            plot(p0*sin(t[rr]), p0*cos(t[rr]), \"r.\", markersize= (h <0.5 ? 1 : 5) )\n",
    "            axis(\"equal\"); xlabel(\"q\"); ylabel(\"p\")\n",
    "        elseif show==3\n",
    "            Eaxis = kT/4:kT/4:12*kT\n",
    "            bins,Ehist = hist(map(sho_V, q)+p.^2/2, Eaxis)\n",
    "            plot(midpoints(bins), Ehist/length(q)/(kT/4), \"-\")\n",
    "            plot(Eaxis, exp(-Eaxis/kT)/kT, \"r-\")\n",
    "        end\n",
    "    end\n",
    "end"
   ]
  },
  {
   "cell_type": "markdown",
   "metadata": {
    "collapsed": true
   },
   "source": [
    "### Verlet integrator\n",
    "\n",
    "Instead of going to higher order in the Taylor expansion, we make it more symmetric\n",
    "\n",
    "$$\n",
    "\\begin{eqnarray}\n",
    "q(t-h) &=& q(t) - h \\dot q(t) + \\frac{h^2}{2} \\ddot q(t) + O(h^3)\\\\\n",
    "q(t+h) &=& q(t) + h \\dot q(t) + \\frac{h^2}{2} \\ddot q(t) - O(h^3)\\\\\n",
    "\\end{eqnarray}\n",
    "$$\n",
    "\n",
    "Adding the two leads to\n",
    "\n",
    "$$\n",
    "q(t+h) = 2 q(t) - q(t-h) + h^2 \\ddot q(t) = 2 q(t) - q(t-h) + h^2 F(q(t))/m\n",
    "$$"
   ]
  },
  {
   "cell_type": "code",
   "execution_count": null,
   "metadata": {
    "collapsed": false
   },
   "outputs": [],
   "source": [
    "Verlet = ( (q,qq,F,h) -> ( 2*q-qq+h^2*F(q) ) ) ;"
   ]
  },
  {
   "cell_type": "markdown",
   "metadata": {},
   "source": [
    "With this integrator, the velocity is not computed directly, it has to be obtained by finite difference after the step. The following variant called velocity-Verlet avoids this, but needs the force from the previous time step passed in.\n",
    "\n",
    "$$\n",
    "\\begin{eqnarray}\n",
    "p(t+\\frac{h}{2}) &=& p(t) + \\frac{h}{2} F(q(t))\\\\\n",
    "q(t+h) &=& q(t) + h p(t+\\frac{h}{2})/m \\\\\n",
    "p(t+h) &=& p(t+\\frac{h}{2}) + \\frac{h}{2} F(q(t+h))\n",
    "\\end{eqnarray}\n",
    "$$"
   ]
  },
  {
   "cell_type": "code",
   "execution_count": null,
   "metadata": {
    "collapsed": false
   },
   "outputs": [],
   "source": [
    "velocityVerlet = (  (q,p,Fq,F,h) -> (ph2 = p+h/2*Fq;\n",
    "                                     qh = q+h*ph2;\n",
    "                                     Fq = F(qh);\n",
    "                                    (qh, ph2+h/2*Fq, Fq) )  );"
   ]
  },
  {
   "cell_type": "markdown",
   "metadata": {},
   "source": [
    "### Langevin dynamics\n",
    "\n",
    "To model an external heat bath, we introduce Langevin Dynamics, which involves random perturbations on each particle at every time step, and a corresponding frictional force to balance it out. \n",
    "\n",
    "The equations of motion are:\n",
    "\n",
    "$$\n",
    "\\begin{eqnarray}\n",
    "p(t+\\frac{h}{2}) &=& p(t) + \\frac{h}{2} F(q(t))\\\\\n",
    "q(t+\\frac{h}{2}) &=& q(t) + \\frac{h}{2} p(t+\\frac{h}{2})/m\\\\\n",
    "\\hat p(t+\\frac{h}{2}) &=& e^{-\\gamma h} p(t+\\frac{h}{2})+\\sqrt{kT(1-e^{-2\\gamma h})}R(t)\\\\\n",
    "q(t+h) &=& q(t+\\frac{h}{2}) + \\frac{h}{2} \\hat p(t+\\frac{h}{2})/m \\\\\n",
    "p(t+h) &=& \\hat p(t+\\frac{h}{2}) + \\frac{h}{2} F(q(t+h))\n",
    "\\end{eqnarray}\n",
    "$$\n",
    "\n",
    "where $T$ is the temperature of the heat bath, and $\\gamma$ is the strength of the coupling. The limit of $\\gamma \\rightarrow 0$ corresponds to the isolated system, and reduces to velocity-Verlet. "
   ]
  },
  {
   "cell_type": "code",
   "execution_count": null,
   "metadata": {
    "collapsed": false
   },
   "outputs": [],
   "source": [
    "function velocityVerletLangevin(q, p, Fq, F, h, kT, gamma)\n",
    "    ph2 = p + h/2*Fq\n",
    "    qh2 = q + h/2*ph2\n",
    "    pph2= exp(-gamma*h)*ph2 + sqrt(kT*(1-exp(-2*gamma*h)))*(randn(1)[1])\n",
    "    qh  = qh2 + h/2*pph2\n",
    "    Fqh = F(qh)\n",
    "    ph  = pph2 + h/2*Fqh\n",
    "    (qh, ph, Fqh)\n",
    "end\n",
    ";"
   ]
  },
  {
   "cell_type": "markdown",
   "metadata": {},
   "source": [
    "## Dynamics of the water dimer"
   ]
  },
  {
   "cell_type": "code",
   "execution_count": null,
   "metadata": {
    "collapsed": false
   },
   "outputs": [],
   "source": [
    "imolecule_draw(make_h4o2(optim=true))"
   ]
  },
  {
   "cell_type": "code",
   "execution_count": null,
   "metadata": {
    "collapsed": false
   },
   "outputs": [],
   "source": [
    "function water_dimer_dynamics(;Temp::Float64=1.0, Nsteps=100, Nsave=0)\n",
    "    h4o2 = make_h4o2(optim=true)\n",
    "\n",
    "    q = vec(h4o2[:get_positions]()')\n",
    "\n",
    "    \n",
    "    h=0.5            # time step\n",
    "    m = repeat(h4o2[:get_masses](), inner=[3])*quippy.units[:MASSCONVERT] #masses to conform to eV, A, fs units\n",
    "    Fq = -tip3p.gradient(q)\n",
    "    p = zeros(q); tmp1 = zeros(q); tmp2 = zeros(q); tmp3 = zeros(q); rOO = zeros(Nsteps)\n",
    "    \n",
    "    Nsave > 0 ? (traj = quippy.CInOutput(\"traj.xyz\", quippy.OUTPUT)) : 0\n",
    "    \n",
    "    for i=1:Nsteps\n",
    "        rOO[i] = norm(q[1:3]-q[10:12])\n",
    "        \n",
    "        velocityVerletLangevin!(q, p, Fq, q->(-tip3p.gradient(q)), m, h, Temp, 0.1, tmp1, tmp2, tmp3) \n",
    "        \n",
    "        if Nsave> 0 && (i-1)%Nsave == 0\n",
    "            h4o2[:set_positions](reshape(q, (3,6))') ; traj[:write](h4o2)\n",
    "        end \n",
    "    end\n",
    "    \n",
    "    Nsave > 0 ?  traj[:close]() : 0\n",
    "    \n",
    "    return rOO\n",
    "end"
   ]
  },
  {
   "cell_type": "code",
   "execution_count": null,
   "metadata": {
    "collapsed": false
   },
   "outputs": [],
   "source": [
    " @time water_dimer_dynamics(Temp=50.0, Nsteps=1000, Nsave=10);"
   ]
  },
  {
   "cell_type": "code",
   "execution_count": null,
   "metadata": {
    "collapsed": false
   },
   "outputs": [],
   "source": [
    "Temps = [1.0,10.0,50.0,100.0,300.0]\n",
    "rOO = zeros(100000,length(Temps))\n",
    "i=1\n",
    "for T in Temps\n",
    "    rOO[:,i] = water_dimer_dynamics(Temp=T, Nsteps=size(rOO,1), Nsave=0);\n",
    "    println(\"T=$(Temps[i]) done\")\n",
    "    i += 1\n",
    "end\n",
    "println(\"done!\")"
   ]
  },
  {
   "cell_type": "code",
   "execution_count": null,
   "metadata": {
    "collapsed": false
   },
   "outputs": [],
   "source": [
    "figure()\n",
    "for i=length(Temps):-1:1\n",
    "    plot(rOO[1:1:10000,i], \"-\", label=\"T=$(Temps[i])\")\n",
    "end\n",
    "xlabel(\"iterations\"); ylabel(\"rOO\"); legend(loc=\"center left\", bbox_to_anchor=(1, 0.5))\n",
    "close(gcf())"
   ]
  },
  {
   "cell_type": "code",
   "execution_count": null,
   "metadata": {
    "collapsed": false
   },
   "outputs": [],
   "source": [
    "figure()\n",
    "for i=length(Temps):-1:2\n",
    "    plt[:hist](rOO[1:10:end,i], 20, label=\"T=$(Temps[i])\", linewidth=0.2)\n",
    "end\n",
    "xlabel(\"rOO\"); ylabel(\"count(rOO)\");legend()\n",
    "close(gcf())"
   ]
  },
  {
   "cell_type": "code",
   "execution_count": null,
   "metadata": {
    "collapsed": false
   },
   "outputs": [],
   "source": [
    "figure(figsize=(8,6))\n",
    "\n",
    "bins = 2.4:0.02:4.5\n",
    "for i=length(Temps):-1:1\n",
    "    dummy,p = hist(rOO[:,i], bins)\n",
    "    F = -log(p)*kB*Temps[i]\n",
    "\n",
    "    plot(midpoints(bins), F - minimum(F), \"o-\", label=\"T=$(Temps[i])\")\n",
    "end\n",
    "\n",
    "r,E = water_dimer_dissoc()\n",
    "plot(r, E-minimum(E), \"k\", label=\"T=0\")\n",
    "\n",
    "axis([minimum(bins), 6.0, -0.01, 0.3]); legend(loc=\"center left\", bbox_to_anchor=(1, 0.5)); xlabel(L\"r_\\mathrm{OO}\"); ylabel(\"Energy\")\n",
    "close(gcf())"
   ]
  },
  {
   "cell_type": "markdown",
   "metadata": {},
   "source": [
    "## Dynamics of the water hexamer"
   ]
  },
  {
   "cell_type": "code",
   "execution_count": null,
   "metadata": {
    "collapsed": false
   },
   "outputs": [],
   "source": [
    "h12o6 = make_h12o6()\n",
    "imolecule_draw(h12o6)"
   ]
  },
  {
   "cell_type": "code",
   "execution_count": null,
   "metadata": {
    "collapsed": false
   },
   "outputs": [],
   "source": [
    "# takes about 2-3 minutes to execute\n",
    "\n",
    "h=0.5\n",
    "m = repeat(h12o6[:get_masses](), inner=[3])*quippy.units[:MASSCONVERT] #masses to conform to eV, A, fs units\n",
    "q = vec(h12o6[:get_positions]()')\n",
    "Fq = -tip3p.gradient(q)\n",
    "p = zeros(q) ; tmp1 = zeros(q); tmp2 = zeros(q); tmp3 = zeros(q)\n",
    "traj = quippy.CInOutput(\"traj.xyz\", quippy.OUTPUT)\n",
    "N=100001\n",
    "Ekin = zeros(N); Epot = zeros(N); Rg = zeros(N); w1z = zeros(N)\n",
    "\n",
    "@time for i=1:N\n",
    "    Ekin[i] = sum(p.^2./m/2)\n",
    "    #Epot[i] = tip3p.potential(q)\n",
    "    Rg[i] = h12o6_Rg(q)\n",
    "    w1z[i] = q[6]-q[3]\n",
    "    if i%1 == 1\n",
    "        h12o6[:set_positions](reshape(q, (3,18))')\n",
    "        traj[:write](h12o6)\n",
    "    end \n",
    "    if i%10000 == 1\n",
    "        println(\"iteration $(i-1)\")\n",
    "    end\n",
    "    velocityVerletLangevin!(q, p, Fq, q->(-tip3p.gradient(q)), m, h, 400.0, 0.1, tmp1, tmp2, tmp3)   \n",
    "end\n",
    "traj[:close]()"
   ]
  },
  {
   "cell_type": "markdown",
   "metadata": {},
   "source": [
    "## Observables\n",
    "\n",
    "Kinetic \"temperature\":\n",
    "\n",
    "$$\n",
    "E_\\text{kin} \\approx 3N\\frac{1}{2}k_B T\n",
    "$$"
   ]
  },
  {
   "cell_type": "code",
   "execution_count": null,
   "metadata": {
    "collapsed": false
   },
   "outputs": [],
   "source": [
    "T = Ekin*2/(3*18*kB) # kinetic temperature\n",
    ";"
   ]
  },
  {
   "cell_type": "code",
   "execution_count": null,
   "metadata": {
    "collapsed": false
   },
   "outputs": [],
   "source": [
    "figure()\n",
    "plot(T[1:100], \"-\")\n",
    "plot(1:10:100, T[1:10:100], \"ro\")\n",
    "xlabel(\"iteration\"); ylabel(\"Kinetic temperature / K\")\n",
    "close(gcf())"
   ]
  },
  {
   "cell_type": "code",
   "execution_count": null,
   "metadata": {
    "collapsed": false
   },
   "outputs": [],
   "source": [
    "std(Ekin*2/(3*18*kB)), 400/sqrt(3*18)"
   ]
  },
  {
   "cell_type": "markdown",
   "metadata": {},
   "source": [
    "## How can we compute the error on the sample mean? \n",
    "\n",
    "(The following discussion draws on A. Sokal's lecture notes on \"Monte Carlo Methods in Statistical Mechanics\")\n",
    "\n",
    "* Estimating the variance of the mean of independent samples is easy\n",
    "\n",
    "$$\n",
    "\\begin{eqnarray}\n",
    "\\bar x &=& \\frac1N \\sum_i^N x_i\\\\\n",
    "\\text{Var}(\\bar x) &=& \\frac{1}{N^2} N \\text{Var}(x)\\\\\n",
    "&=& \\frac{\\text{Var}(x)}{N}\\\\\n",
    "\\text{Std}(\\bar x) &=& \\frac{\\text{Std}(x)}{\\sqrt{N}}\n",
    "\\end{eqnarray}\n",
    "$$\n",
    "\n",
    "* We could resample the sequence and only keep indpendent samples\n",
    " * How long do we have to wait for samples to become independent?\n",
    " * Are we wasting a lot of data?\n",
    " "
   ]
  },
  {
   "cell_type": "markdown",
   "metadata": {},
   "source": [
    "### Autocorrelation\n",
    "\n",
    "Given the _true_ mean, $\\mu_x = \\langle x\\rangle$\n",
    "\n",
    "$$\n",
    "\\begin{eqnarray}\n",
    "C_{xx} (i) &=& \\frac1N\\sum_{j=1}^N (x(j)-\\mu_x) (x(j+i)-\\mu_x)\\\\\n",
    "&=& \\langle x(j)x(j+i)\\rangle - \\mu_x^2\\\\\n",
    "\\rho_{xx} (i) &=& C_{xx}(i)/C_{xx}(0)\n",
    "\\end{eqnarray}\n",
    "$$\n",
    "\n",
    "* $C_{xx}(0)$ is just the variance of $x$\n",
    "* The autocorrelation tells us how correlated samples are at different times \n",
    "* As separation increases, we expect samples to be less and less correlated \n",
    "* Autocorrelation therefore decays with separation \n",
    "* (Note: strictly, zero correlation does not imply independence)\n",
    "* Problem: computing the autocorrelation is difficult, because it requires knowledge of the true mean! "
   ]
  },
  {
   "cell_type": "code",
   "execution_count": null,
   "metadata": {
    "collapsed": false
   },
   "outputs": [],
   "source": [
    "\n",
    "Ns=100\n",
    "mT = 400.0 # mean\n",
    "C_T = fftshift(xcorr(T[1:Ns] - mT, T[1:Ns] - mT))[1:100]\n",
    "\n",
    "rho_T = C_T/C_T[1]\n",
    "\n",
    "figure()\n",
    "plot( rho_T, \"-\")\n",
    "close(gcf())\n"
   ]
  },
  {
   "cell_type": "code",
   "execution_count": null,
   "metadata": {
    "collapsed": false
   },
   "outputs": [],
   "source": [
    "figure()\n",
    "\n",
    "for Ns in [100, 1000, 10000, 100000]\n",
    "    mT = mean(T[1:Ns])\n",
    "    C_T = fftshift(xcorr(T[1:Ns] - mT, T[1:Ns] - mT))[1:100]\n",
    "\n",
    "    rho_T = C_T/C_T[1]\n",
    "\n",
    "    plot( rho_T, \"-\", label=\"N=$Ns\")\n",
    "end\n",
    "legend(); xlabel(\"iteration\"), ylabel(L\"\\rho_T\")\n",
    "close(gcf())"
   ]
  },
  {
   "cell_type": "markdown",
   "metadata": {},
   "source": [
    "At long times, the autocorrelation decays exponentially,\n",
    "\n",
    "$$\n",
    "\\rho_{xx}(t) \\sim e^{-|t|/\\tau}\n",
    "$$\n",
    "\n",
    "The __exponential autocorrelation time__ for an observable is defined as\n",
    "\n",
    "$$\n",
    "\\tau_{\\text{exp},x} = \\limsup_{t\\rightarrow\\infty} \\frac{t}{-\\log |\\rho_{xx}(t)|}\n",
    "$$\n",
    "\n",
    "If we want to be sure that all correlations have decayed, we need to take the _longest_ exponental autocorrelation time, so for the whole system,\n",
    "\n",
    "$$\n",
    "\\tau_\\text{exp} = \\sup_{x} \\tau_{\\text{exp},x}\n",
    "$$\n",
    "\n",
    "(If we are unlucky, this might not be finite!)\n",
    "\n",
    "* $\\tau_\\text{exp}$ is used to measure _relaxation time_\n",
    "* Advisable to discard the first $10 \\tau$ amount simulation before we measure anything!"
   ]
  },
  {
   "cell_type": "markdown",
   "metadata": {},
   "source": [
    "### But what about the error on sample mean? "
   ]
  },
  {
   "cell_type": "markdown",
   "metadata": {},
   "source": [
    "* Measurements that comprise the mean, e.g. x(i) and x(i+1) etc., are _not_ independent\n",
    "* The autocorrelation is precisely the thing that measures their covariance\n",
    "\n",
    "$$\n",
    "\\begin{eqnarray}\n",
    "\\text{Var}(\\bar x) &=& \\frac{1}{N^2} \\sum_{i,j=1}^N C_{xx}(i-j)\\\\\n",
    "&=& \\frac{1}{N^2} \\sum_{t=-(N-1)}^{N-1} (N - |t|) C_{xx}(t)\\\\\n",
    "&=& \\frac1N \\sum_{t=-(N-1)}^{N-1} \\left(1-\\frac{|t|}{N}\\right) C_{xx}(t)\\\\\n",
    "&\\approx& \\frac1N \\sum_{t=-\\infty}^{\\infty} C_{xx}(t) \\qquad \\text{for } n \\gg \\tau_\\text{exp}\\\\\n",
    "\\end{eqnarray}\n",
    "$$\n",
    "\n",
    "Define the __integrated autocorrelation time__, \n",
    "\n",
    "$$\n",
    "\\begin{eqnarray}\n",
    "2 \\tau_{\\text{int},x} &=& \\frac{1}{C_{xx}(0)} \\sum_{t=-\\infty}^{\\infty} C_{xx}(t)\\\\\n",
    " &=& \\sum_{t=-\\infty}^{\\infty} \\rho_{xx}(t)\\\\\n",
    " &=& 1+\\sum_{t=1}^{\\infty} \\rho_{xx}(t)\n",
    "\\end{eqnarray} \n",
    "$$\n",
    "\n",
    "So\n",
    "\n",
    "$$\n",
    "\\text{Var}(\\bar x) \\approx \\frac1N (2\\tau_{\\text{int},x}) C_{xx}(0)\n",
    "$$\n",
    "\n",
    "The number of _effectively independent samples_ is a factor $2\\tau_{\\text{int},x}$ less than $N$,\n",
    "\n",
    "$$\n",
    "\\text{Std}(\\bar x) = \\frac{\\text{Std}(x)}{\\sqrt{N/2\\tau_{\\text{int},x}}}\n",
    "$$\n",
    "\n",
    "The autocorrelation times $\\tau_\\text{exp}$ and $\\tau_\\text{int}$ are often assumed to be of the same order of magnitude. This is certainly not true near critical points associated with phase transitions. \n",
    "\n",
    "#### Caveats\n",
    "\n",
    "* We need the simulation to be long enough for the $\\tau_\\text{int}$ formula to be valid\n",
    "* We can only estimate the autocorrelation, and hence $\\tau_\\text{int}$\n",
    "* In computing the integrated autocorrelation, we should _stop_ adding up the values at some point, otherwise the result will start diverging"
   ]
  },
  {
   "cell_type": "markdown",
   "metadata": {},
   "source": [
    "#### Estimating $\\tau_\\text{int}$"
   ]
  },
  {
   "cell_type": "code",
   "execution_count": null,
   "metadata": {
    "collapsed": false
   },
   "outputs": [],
   "source": [
    "figure()\n",
    "\n",
    "for Ns in [100, 1000, 10000, 100000]\n",
    "    Tm = mean(T[1:Ns])\n",
    "    C_T = fftshift(xcorr(T[1:Ns] - Tm, T[1:Ns] - Tm))[1:100]\n",
    "\n",
    "    rho_T = C_T/C_T[1]\n",
    "\n",
    "    twotau = 1+cumsum(rho_T)\n",
    "    plot(twotau, \"-\", label=\"N=$Ns\")\n",
    "end\n",
    "legend(loc=\"center left\", bbox_to_anchor=(1,0.5)); xlabel(\"iteration\"), ylabel(L\"2\\tau_{\\mathrm{int},T}\")\n",
    "close(gcf())"
   ]
  },
  {
   "cell_type": "code",
   "execution_count": null,
   "metadata": {
    "collapsed": false
   },
   "outputs": [],
   "source": [
    "start=1\n",
    "Ns = [100, 1000, 10000, 100000]\n",
    "Tm = []\n",
    "Tmerr = []\n",
    "for n in Ns\n",
    "    push!(Tm, mean(T[start:n]))\n",
    "    \n",
    "    C_T = fftshift(xcorr(T[start:n] - Tm[end], T[start:n] - Tm[end]))[1:10]\n",
    "    rho_T = C_T/C_T[1]\n",
    "    twotau = 1+sum(rho_T)\n",
    "    \n",
    "    push!(Tmerr, std(T[start:n])/sqrt((n-start+1)/twotau))\n",
    "end\n",
    "\n",
    "figure()\n",
    "errorbar(log10(Ns), Tm, Tmerr, fmt=\"o-\")\n",
    "axis([1,6,360,420]); xlabel(L\"\\log_{10}(N)\"); ylabel(\"kinetic T\")\n",
    "close(gcf())\n",
    "    \n"
   ]
  },
  {
   "cell_type": "markdown",
   "metadata": {},
   "source": [
    "## More complicated observables\n",
    "\n",
    "Radius of gyration (of the oxygens):\n",
    "\n",
    "$$\n",
    "R_g = \\left[\\frac{1}{6} \\sum_{i=1}^6 \\left|{\\bf r }_{O_i}-\\bar{\\bf r }\\right|^2\\right]^\\frac{1}{2}\n",
    "$$\n",
    "\n"
   ]
  },
  {
   "cell_type": "code",
   "execution_count": null,
   "metadata": {
    "collapsed": false
   },
   "outputs": [],
   "source": [
    "figure()\n",
    "plot(1:100:100000, Rg[1:100:100000], \"-\", label=\"Radius of gyration\")\n",
    "plot([1,N], repeat([mean(Rg)], inner=[2]), \"k--\", label=\"mean\")\n",
    "plot([1,N], repeat([mean(Rg)+std(Rg)/sqrt(N/twotau)], inner=[2]), \"r--\")\n",
    "plot([1,N], repeat([mean(Rg)-std(Rg)/sqrt(N/twotau)], inner=[2]), \"r--\")\n",
    "xlabel(\"iteration\"); ylabel(\"Rg: Radius of gyration  / A\")\n",
    "close(gcf())"
   ]
  },
  {
   "cell_type": "code",
   "execution_count": null,
   "metadata": {
    "collapsed": false
   },
   "outputs": [],
   "source": [
    "C = fftshift(xcorr(Rg - mean(Rg), Rg - mean(Rg)))[1:length(Rg)÷2]\n",
    "rho = C/C[1]\n",
    "\n",
    "figure()\n",
    "plot(1:10:length(rho), rho[1:10:end])\n",
    "xlabel(\"iteration\"); ylabel(L\"\\rho_{Rg}\")\n",
    "close(gcf())"
   ]
  },
  {
   "cell_type": "code",
   "execution_count": null,
   "metadata": {
    "collapsed": false
   },
   "outputs": [],
   "source": [
    "twotau = 2+sum(rho[1:10000])"
   ]
  },
  {
   "cell_type": "markdown",
   "metadata": {},
   "source": [
    "#### Orientation of Water1\n",
    "\n",
    "$$\n",
    "w1z = z_{H_1}-z_{O_1}\n",
    "$$"
   ]
  },
  {
   "cell_type": "code",
   "execution_count": null,
   "metadata": {
    "collapsed": false
   },
   "outputs": [],
   "source": [
    "figure()\n",
    "plot(1:100:100000, w1z[1:100:100000], \"-\")\n",
    "plot([1,N], repeat([mean(w1z)], inner=[2]), \"k--\")\n",
    "plot([1,N], repeat([mean(w1z)+std(w1z)/sqrt(N/twotau)], inner=[2]), \"r--\")\n",
    "plot([1,N], repeat([mean(w1z)-std(w1z)/sqrt(N/twotau)], inner=[2]), \"r--\")\n",
    "xlabel(\"iteration\"); ylabel(\"Water 1 OH(z)\")\n",
    "close(gcf())"
   ]
  },
  {
   "cell_type": "code",
   "execution_count": null,
   "metadata": {
    "collapsed": false
   },
   "outputs": [],
   "source": [
    "C = fftshift(xcorr(w1z - mean(w1z), w1z - mean(w1z)))[1:length(w1z)÷2]\n",
    "rho = C/C[1]\n",
    "\n",
    "figure()\n",
    "plot(1:10:length(rho), rho[1:10:end])\n",
    "xlabel(\"iteration\"); ylabel(L\"\\rho_{w1z}\")\n",
    "close(gcf())"
   ]
  },
  {
   "cell_type": "code",
   "execution_count": null,
   "metadata": {
    "collapsed": false
   },
   "outputs": [],
   "source": [
    "twotau = 2+sum(rho[1:10000])"
   ]
  },
  {
   "cell_type": "markdown",
   "metadata": {},
   "source": [
    "## Radius of gyration as a function of temperature"
   ]
  },
  {
   "cell_type": "code",
   "execution_count": null,
   "metadata": {
    "collapsed": false
   },
   "outputs": [],
   "source": [
    "## Takes a long time§§ to run \n",
    "##\n",
    "\n",
    "Ts = [100.0,200.0,300.0]\n",
    "Rgs = []\n",
    "Rges = []\n",
    "for T in Ts\n",
    "    println(\"T = $T K\")\n",
    "    myRg,myw1z = water_hexamer_dynamics(;T=T, Nsteps=500000, Nsubsamp=100)\n",
    "    Rgm,Rge = mean_err_corr(myRg[1000:end]; acorr_limit=100)\n",
    "    push!(Rgs, Rgm)\n",
    "    push!(Rges, Rge)\n",
    "end"
   ]
  },
  {
   "cell_type": "code",
   "execution_count": null,
   "metadata": {
    "collapsed": false
   },
   "outputs": [],
   "source": [
    "figure()\n",
    "errorbar(Ts, Rgs ,Rges, fmt=\".-\")\n",
    "axis([minimum(Ts)-50, maximum(Ts)+50, 2.4, 3.1]); xlabel(\"Temperature / K\"); ylabel(\"Rg\")\n",
    "close(gcf())"
   ]
  },
  {
   "cell_type": "code",
   "execution_count": null,
   "metadata": {
    "collapsed": false
   },
   "outputs": [],
   "source": [
    "# very short run !!\n",
    "\n",
    "sTs = [100.0,200.0,300.0]\n",
    "sRgs = []\n",
    "sRges = []\n",
    "for T in Ts\n",
    "    println(\"T = $T K\")\n",
    "    myRg,myw1z = water_hexamer_dynamics(;T=T, Nsteps=10000, Nsubsamp=10)\n",
    "    Rgm,Rge = mean_err_corr(myRg[200:end]; acorr_limit=50)\n",
    "    push!(sRgs, Rgm)\n",
    "    push!(sRges, Rge)\n",
    "end\n",
    "figure()\n",
    "errorbar(sTs, sRgs ,sRges, fmt=\"o-\")\n",
    "axis([minimum(sTs)-50, maximum(sTs)+50, 2.4, 3.3]); xlabel(\"Temperature / K\"); ylabel(\"Rg\")\n",
    "close(gcf())\n"
   ]
  },
  {
   "cell_type": "markdown",
   "metadata": {},
   "source": [
    "## Complicated observables: errors in histograms"
   ]
  },
  {
   "cell_type": "markdown",
   "metadata": {},
   "source": [
    "#### O-O distance distribution in the water dimer"
   ]
  },
  {
   "cell_type": "code",
   "execution_count": null,
   "metadata": {
    "collapsed": true
   },
   "outputs": [],
   "source": [
    "rOO_long = water_dimer_dynamics(Temp=100.0, Nsteps=100000, Nsave=0)\n",
    ";"
   ]
  },
  {
   "cell_type": "code",
   "execution_count": null,
   "metadata": {
    "collapsed": false
   },
   "outputs": [],
   "source": [
    "b0,p0 = hist(rOO_long, 2.4:0.05:3.2)\n",
    "figure()\n",
    "plot(midpoints(b0), p0/length(rOO_long)/(b0[2]-b0[1]), \"ko--\", label=\"100000 steps\")\n",
    "legend(); xlabel(\"rOO / A\"), ylabel(\"P(rOO)\")\n",
    "close(gcf())"
   ]
  },
  {
   "cell_type": "code",
   "execution_count": null,
   "metadata": {
    "collapsed": false
   },
   "outputs": [],
   "source": [
    "rOO_short = water_dimer_dynamics(Temp=100.0, Nsteps=1000, Nsave=0)\n",
    "b,p = hist(rOO_short, 2.4:0.1:3.2)\n",
    "b0,p0 = hist(rOO_long, 2.4:0.1:3.2)\n",
    ";"
   ]
  },
  {
   "cell_type": "code",
   "execution_count": null,
   "metadata": {
    "collapsed": false
   },
   "outputs": [],
   "source": [
    "figure()\n",
    "plot(midpoints(b), p/length(rOO_short)/(b[2]-b[1]), \"o-\", label=\"1000 steps\")\n",
    "plot(midpoints(b0), p0/length(rOO_long)/(b0[2]-b0[1]), \"ko--\", label=\"100000 steps\")\n",
    "legend(); xlabel(\"rOO / A\"), ylabel(\"P(rOO)\")\n",
    "close(gcf())"
   ]
  },
  {
   "cell_type": "code",
   "execution_count": null,
   "metadata": {
    "collapsed": false
   },
   "outputs": [],
   "source": [
    "blocks = 100\n",
    "blocksize = length(rOO_short)÷blocks\n",
    "r = 2.4:0.1:3.2\n",
    "p = zeros(length(midpoints(r)), blocks)\n",
    "for i=1:blocks\n",
    "    b,p[:,i] = hist(rOO_short[(i-1)*blocksize+1:i*blocksize ], r)\n",
    "    p[:,i] /= (blocksize)*(b[2]-b[1])\n",
    "end\n",
    "\n",
    "figure()\n",
    "for i=1:20\n",
    "    plot(midpoints(b), p[:,i], \"-\")\n",
    "end\n",
    "close(gcf())"
   ]
  },
  {
   "cell_type": "code",
   "execution_count": null,
   "metadata": {
    "collapsed": false
   },
   "outputs": [],
   "source": [
    "p"
   ]
  },
  {
   "cell_type": "code",
   "execution_count": null,
   "metadata": {
    "collapsed": false
   },
   "outputs": [],
   "source": [
    "pp = zeros(size(p,1)); ppe = zeros(pp)\n",
    "for i=1:length(pp)\n",
    "    pp[i],ppe[i] = mean_err_corr(vec(p[i,:]), acorr_limit=10)\n",
    "end\n",
    "[pp ppe]"
   ]
  },
  {
   "cell_type": "code",
   "execution_count": null,
   "metadata": {
    "collapsed": false
   },
   "outputs": [],
   "source": [
    "ppe[find(isnan(ppe))] = 0\n",
    "[pp ppe]"
   ]
  },
  {
   "cell_type": "code",
   "execution_count": null,
   "metadata": {
    "collapsed": false
   },
   "outputs": [],
   "source": [
    "figure()\n",
    "errorbar(midpoints(r), pp, ppe, fmt=\"o-\")\n",
    "plot(midpoints(b0), p0/length(rOO_long)/(b0[2]-b0[1]), \"ko--\")\n",
    "close(gcf())"
   ]
  },
  {
   "cell_type": "code",
   "execution_count": null,
   "metadata": {
    "collapsed": true
   },
   "outputs": [],
   "source": []
  }
 ],
 "metadata": {
  "kernelspec": {
   "display_name": "Julia 0.4.3",
   "language": "julia",
   "name": "julia-0.4"
  },
  "language_info": {
   "file_extension": ".jl",
   "mimetype": "application/julia",
   "name": "julia",
   "version": "0.4.3"
  }
 },
 "nbformat": 4,
 "nbformat_minor": 0
}
