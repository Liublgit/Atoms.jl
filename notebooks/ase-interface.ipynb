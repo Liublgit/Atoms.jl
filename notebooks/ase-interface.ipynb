{
 "cells": [
  {
   "cell_type": "code",
   "execution_count": null,
   "metadata": {
    "collapsed": false
   },
   "outputs": [],
   "source": [
    "push!(LOAD_PATH, \"..\")\n",
    "using atoms\n",
    "using lj\n",
    "reload(\"pbc\")"
   ]
  },
  {
   "cell_type": "code",
   "execution_count": null,
   "metadata": {
    "collapsed": false
   },
   "outputs": [],
   "source": [
    "at = bulk(\"Cu\"; crystalstructure=\"fcc\", cubic=true)\n",
    "at = repeat(at, (2, 2, 2))"
   ]
  },
  {
   "cell_type": "code",
   "execution_count": null,
   "metadata": {
    "collapsed": false
   },
   "outputs": [],
   "source": [
    "using lj\n",
    "using pbc\n",
    "\n",
    "rho = length(at)/det(get_cell(at))\n",
    "pbc.set_density(length(at), rho)\n",
    "println(lj.info())\n",
    "\n",
    "e = lj.energy(get_positions(at))"
   ]
  },
  {
   "cell_type": "code",
   "execution_count": null,
   "metadata": {
    "collapsed": false
   },
   "outputs": [],
   "source": [
    "using PyCall\n",
    "@pyimport quippy.potential as potential\n",
    "lj_pot = potential.Potential(\"IP LJ\"; param_str=\"\"\"\n",
    "<LJ_params n_types=\"3\" label=\"default\">\n",
    "<per_type_data type=\"1\" atomic_num=\"29\" />\n",
    "<per_pair_data type1=\"1\" type2=\"1\" sigma=\"1.0\" eps6=\"1.0\" eps12=\"1.0\" cutoff=\"3.0\" energy_shift=\"F\" linear_force_shift=\"F\" />\n",
    "</LJ_params>\"\"\")\n",
    "set_calculator(at, lj_pot)\n",
    "get_potential_energy(at)"
   ]
  },
  {
   "cell_type": "code",
   "execution_count": null,
   "metadata": {
    "collapsed": false
   },
   "outputs": [],
   "source": [
    "# compute neighbour list using matscipy\n",
    "i, j, rij = neighbours(at, \"ijd\", sw[:cutoff]())\n",
    "\n",
    "# estimate nearest neighbour distance\n",
    "r_nn = median([ minimum(rij[i .== n]) for n = 1:length(at) ])"
   ]
  },
  {
   "cell_type": "code",
   "execution_count": null,
   "metadata": {
    "collapsed": false
   },
   "outputs": [],
   "source": [
    "p = [0. 0. 0.;\n",
    "     0. 0. 0.]\n",
    "p = p' # NB: Gabor's LJ module expects (3, N) arrays not (N, 3) like ASE\n",
    "X = linspace(1, 3)\n",
    "Ej = zeros(length(X))\n",
    "for (i, x) in enumerate(X)\n",
    "    p[1,2] = x\n",
    "    Ej[i] = lj.energy(p)\n",
    "end"
   ]
  },
  {
   "cell_type": "code",
   "execution_count": null,
   "metadata": {
    "collapsed": false
   },
   "outputs": [],
   "source": [
    "p = [0. 0. 0.;\n",
    "     0. 0. 0.]\n",
    "dimerq = convert(Atoms, atoms.ase.Atoms(\"Cu2\"; positions=p, cell=100.0*eye(3), pbc=false))\n",
    "set_calculator(dimerq, lj_pot)\n",
    "Eq = zeros(length(X))\n",
    "for (i, x) in enumerate(X)\n",
    "    p[2,1] = x\n",
    "    set_positions!(dimerq, p)\n",
    "    Eq[i] = get_potential_energy(dimerq)\n",
    "end"
   ]
  },
  {
   "cell_type": "code",
   "execution_count": null,
   "metadata": {
    "collapsed": false
   },
   "outputs": [],
   "source": [
    "@pyimport ase.calculators.lj as ase_lj\n",
    "lj_calc = pycall(ase_lj.LennardJones, PyAny)\n",
    "lj_calc[:set](; epsilon=1.0/4.0, sigma=1.0, rc=3.0)\n",
    "p = [0. 0. 0.;\n",
    "     0. 0. 0.]\n",
    "dimera = convert(Atoms, atoms.ase.Atoms(\"Cu2\"; positions=p, cell=100.0*eye(3), pbc=false))\n",
    "set_calculator(dimera, lj_calc)\n",
    "Ea = zeros(length(X))\n",
    "for (i, x) in enumerate(X)\n",
    "    p[2,1] = x\n",
    "    set_positions!(dimera, p)\n",
    "    Ea[i] = get_potential_energy(dimera)\n",
    "end"
   ]
  },
  {
   "cell_type": "code",
   "execution_count": null,
   "metadata": {
    "collapsed": false
   },
   "outputs": [],
   "source": [
    "using PyPlot"
   ]
  },
  {
   "cell_type": "code",
   "execution_count": null,
   "metadata": {
    "collapsed": false
   },
   "outputs": [],
   "source": [
    "clf()\n",
    "plot(X, Ej; label=\"Julia\")\n",
    "plot(X, Ea; label=\"ASE\")\n",
    "plot(X, Eq; label=\"QUIP\")\n",
    "legend()"
   ]
  },
  {
   "cell_type": "code",
   "execution_count": null,
   "metadata": {
    "collapsed": false
   },
   "outputs": [],
   "source": [
    "@time lj.energy(p')"
   ]
  },
  {
   "cell_type": "code",
   "execution_count": null,
   "metadata": {
    "collapsed": false
   },
   "outputs": [],
   "source": [
    "@time get_potential_energy(dimerq)"
   ]
  },
  {
   "cell_type": "code",
   "execution_count": null,
   "metadata": {
    "collapsed": false
   },
   "outputs": [],
   "source": [
    "@time get_potential_energy(dimera)"
   ]
  }
 ],
 "metadata": {
  "kernelspec": {
   "display_name": "Julia 0.3.8",
   "language": "julia",
   "name": "julia-0.3"
  },
  "language_info": {
   "name": "julia",
   "version": "0.3.8"
  }
 },
 "nbformat": 4,
 "nbformat_minor": 0
}
